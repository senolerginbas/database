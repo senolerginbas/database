{
 "cells": [
  {
   "cell_type": "markdown",
   "id": "c5c17f4a",
   "metadata": {},
   "source": [
    "## Strings"
   ]
  },
  {
   "cell_type": "markdown",
   "id": "ae6ede43",
   "metadata": {},
   "source": [
    "I have the following variable called name. What is the result of the following codes?"
   ]
  },
  {
   "cell_type": "code",
   "execution_count": 2,
   "id": "1487b280",
   "metadata": {
    "ExecuteTime": {
     "end_time": "2024-03-10T12:23:12.306254Z",
     "start_time": "2024-03-10T12:23:12.299632Z"
    }
   },
   "outputs": [],
   "source": [
    "name = \"Data science course\""
   ]
  },
  {
   "cell_type": "code",
   "execution_count": 3,
   "id": "a9fb8447",
   "metadata": {},
   "outputs": [
    {
     "data": {
      "text/plain": [
       "'D'"
      ]
     },
     "execution_count": 3,
     "metadata": {},
     "output_type": "execute_result"
    }
   ],
   "source": [
    "name[0] # indexing."
   ]
  },
  {
   "cell_type": "code",
   "execution_count": 4,
   "id": "748beafb",
   "metadata": {},
   "outputs": [
    {
     "data": {
      "text/plain": [
       "' '"
      ]
     },
     "execution_count": 4,
     "metadata": {},
     "output_type": "execute_result"
    }
   ],
   "source": [
    "name[4]"
   ]
  },
  {
   "cell_type": "code",
   "execution_count": 5,
   "id": "18de055e",
   "metadata": {},
   "outputs": [
    {
     "data": {
      "text/plain": [
       "'e'"
      ]
     },
     "execution_count": 5,
     "metadata": {},
     "output_type": "execute_result"
    }
   ],
   "source": [
    "name[-1]"
   ]
  },
  {
   "cell_type": "code",
   "execution_count": 6,
   "id": "afca6523",
   "metadata": {},
   "outputs": [
    {
     "data": {
      "text/plain": [
       "'Data science course'"
      ]
     },
     "execution_count": 6,
     "metadata": {},
     "output_type": "execute_result"
    }
   ],
   "source": [
    "name"
   ]
  },
  {
   "cell_type": "code",
   "execution_count": 7,
   "id": "21e06f85",
   "metadata": {},
   "outputs": [
    {
     "data": {
      "text/plain": [
       "19"
      ]
     },
     "execution_count": 7,
     "metadata": {},
     "output_type": "execute_result"
    }
   ],
   "source": [
    "len(name)"
   ]
  },
  {
   "cell_type": "code",
   "execution_count": 9,
   "id": "2208fc83",
   "metadata": {},
   "outputs": [
    {
     "data": {
      "text/plain": [
       "'Data science course'"
      ]
     },
     "execution_count": 9,
     "metadata": {},
     "output_type": "execute_result"
    }
   ],
   "source": [
    "name # the range is between 0 and 18."
   ]
  },
  {
   "cell_type": "code",
   "execution_count": 8,
   "id": "c003df7c",
   "metadata": {},
   "outputs": [
    {
     "ename": "IndexError",
     "evalue": "string index out of range",
     "output_type": "error",
     "traceback": [
      "\u001b[1;31m---------------------------------------------------------------------------\u001b[0m",
      "\u001b[1;31mIndexError\u001b[0m                                Traceback (most recent call last)",
      "Cell \u001b[1;32mIn[8], line 1\u001b[0m\n\u001b[1;32m----> 1\u001b[0m \u001b[43mname\u001b[49m\u001b[43m[\u001b[49m\u001b[38;5;28;43mlen\u001b[39;49m\u001b[43m(\u001b[49m\u001b[43mname\u001b[49m\u001b[43m)\u001b[49m\u001b[43m]\u001b[49m\n",
      "\u001b[1;31mIndexError\u001b[0m: string index out of range"
     ]
    }
   ],
   "source": [
    "name[len(name)]"
   ]
  },
  {
   "cell_type": "code",
   "execution_count": 10,
   "id": "76cbc9ec",
   "metadata": {},
   "outputs": [
    {
     "data": {
      "text/plain": [
       "'e'"
      ]
     },
     "execution_count": 10,
     "metadata": {},
     "output_type": "execute_result"
    }
   ],
   "source": [
    "name[len(name) - 1]"
   ]
  },
  {
   "cell_type": "code",
   "execution_count": 11,
   "id": "8c4377cc",
   "metadata": {},
   "outputs": [
    {
     "ename": "IndexError",
     "evalue": "string index out of range",
     "output_type": "error",
     "traceback": [
      "\u001b[1;31m---------------------------------------------------------------------------\u001b[0m",
      "\u001b[1;31mIndexError\u001b[0m                                Traceback (most recent call last)",
      "Cell \u001b[1;32mIn[11], line 1\u001b[0m\n\u001b[1;32m----> 1\u001b[0m \u001b[43mname\u001b[49m\u001b[43m[\u001b[49m\u001b[38;5;241;43m100\u001b[39;49m\u001b[43m]\u001b[49m\n",
      "\u001b[1;31mIndexError\u001b[0m: string index out of range"
     ]
    }
   ],
   "source": [
    "name[100]"
   ]
  },
  {
   "cell_type": "code",
   "execution_count": 12,
   "id": "3219a1ce",
   "metadata": {},
   "outputs": [
    {
     "data": {
      "text/plain": [
       "'Data science course'"
      ]
     },
     "execution_count": 12,
     "metadata": {},
     "output_type": "execute_result"
    }
   ],
   "source": [
    "name"
   ]
  },
  {
   "cell_type": "code",
   "execution_count": 13,
   "id": "a722ea8c",
   "metadata": {},
   "outputs": [
    {
     "data": {
      "text/plain": [
       "'Data science courseis the Future'"
      ]
     },
     "execution_count": 13,
     "metadata": {},
     "output_type": "execute_result"
    }
   ],
   "source": [
    "name + \"is the Future\" # not addition; concatenation."
   ]
  },
  {
   "cell_type": "code",
   "execution_count": 14,
   "id": "4e882a82",
   "metadata": {},
   "outputs": [
    {
     "data": {
      "text/plain": [
       "'Data science courseis the future'"
      ]
     },
     "execution_count": 14,
     "metadata": {},
     "output_type": "execute_result"
    }
   ],
   "source": [
    "name + \"\" + \"is the future\""
   ]
  },
  {
   "cell_type": "code",
   "execution_count": 15,
   "id": "efcd852d",
   "metadata": {},
   "outputs": [
    {
     "data": {
      "text/plain": [
       "'Data science course is the future'"
      ]
     },
     "execution_count": 15,
     "metadata": {},
     "output_type": "execute_result"
    }
   ],
   "source": [
    "name + \" \" + \"is the future\""
   ]
  },
  {
   "cell_type": "code",
   "execution_count": 16,
   "id": "59a00fc8",
   "metadata": {},
   "outputs": [
    {
     "data": {
      "text/plain": [
       "'Data science course is the Future'"
      ]
     },
     "execution_count": 16,
     "metadata": {},
     "output_type": "execute_result"
    }
   ],
   "source": [
    "name + \" is the Future\""
   ]
  },
  {
   "cell_type": "code",
   "execution_count": 17,
   "id": "24b73081",
   "metadata": {},
   "outputs": [
    {
     "data": {
      "text/plain": [
       "'Data science course'"
      ]
     },
     "execution_count": 17,
     "metadata": {},
     "output_type": "execute_result"
    }
   ],
   "source": [
    "name"
   ]
  },
  {
   "cell_type": "code",
   "execution_count": 18,
   "id": "3f54fe88",
   "metadata": {},
   "outputs": [
    {
     "data": {
      "text/plain": [
       "'Data science courseData science courseData science course'"
      ]
     },
     "execution_count": 18,
     "metadata": {},
     "output_type": "execute_result"
    }
   ],
   "source": [
    "name * 3"
   ]
  },
  {
   "cell_type": "code",
   "execution_count": 19,
   "id": "803c2896",
   "metadata": {},
   "outputs": [
    {
     "data": {
      "text/plain": [
       "'Data science course - Data science course - Data science course - '"
      ]
     },
     "execution_count": 19,
     "metadata": {},
     "output_type": "execute_result"
    }
   ],
   "source": [
    "(name + \" - \") * 3"
   ]
  },
  {
   "cell_type": "code",
   "execution_count": 20,
   "id": "850a1531",
   "metadata": {},
   "outputs": [
    {
     "data": {
      "text/plain": [
       "'namenamename'"
      ]
     },
     "execution_count": 20,
     "metadata": {},
     "output_type": "execute_result"
    }
   ],
   "source": [
    "\"name\" * 3"
   ]
  },
  {
   "cell_type": "code",
   "execution_count": 22,
   "id": "94c32776",
   "metadata": {},
   "outputs": [
    {
     "data": {
      "text/plain": [
       "'Data science course'"
      ]
     },
     "execution_count": 22,
     "metadata": {},
     "output_type": "execute_result"
    }
   ],
   "source": [
    "name"
   ]
  },
  {
   "cell_type": "code",
   "execution_count": 21,
   "id": "36a5b0ea",
   "metadata": {},
   "outputs": [
    {
     "ename": "TypeError",
     "evalue": "can only concatenate str (not \"int\") to str",
     "output_type": "error",
     "traceback": [
      "\u001b[1;31m---------------------------------------------------------------------------\u001b[0m",
      "\u001b[1;31mTypeError\u001b[0m                                 Traceback (most recent call last)",
      "Cell \u001b[1;32mIn[21], line 1\u001b[0m\n\u001b[1;32m----> 1\u001b[0m \u001b[43mname\u001b[49m\u001b[43m \u001b[49m\u001b[38;5;241;43m+\u001b[39;49m\u001b[43m \u001b[49m\u001b[38;5;241;43m5\u001b[39;49m\n",
      "\u001b[1;31mTypeError\u001b[0m: can only concatenate str (not \"int\") to str"
     ]
    }
   ],
   "source": [
    "name + 5"
   ]
  },
  {
   "cell_type": "code",
   "execution_count": 23,
   "id": "dd22d891",
   "metadata": {},
   "outputs": [
    {
     "data": {
      "text/plain": [
       "'Data science course5'"
      ]
     },
     "execution_count": 23,
     "metadata": {},
     "output_type": "execute_result"
    }
   ],
   "source": [
    "name + \"5\""
   ]
  },
  {
   "cell_type": "code",
   "execution_count": 24,
   "id": "0bb0c99a",
   "metadata": {},
   "outputs": [
    {
     "data": {
      "text/plain": [
       "'name5'"
      ]
     },
     "execution_count": 24,
     "metadata": {},
     "output_type": "execute_result"
    }
   ],
   "source": [
    "\"name\" + \"5\""
   ]
  },
  {
   "cell_type": "code",
   "execution_count": 25,
   "id": "50faea9a",
   "metadata": {},
   "outputs": [
    {
     "data": {
      "text/plain": [
       "'Data science course'"
      ]
     },
     "execution_count": 25,
     "metadata": {},
     "output_type": "execute_result"
    }
   ],
   "source": [
    "name"
   ]
  },
  {
   "cell_type": "code",
   "execution_count": 26,
   "id": "b0652ca0",
   "metadata": {
    "ExecuteTime": {
     "end_time": "2024-03-10T12:26:29.109891Z",
     "start_time": "2024-03-10T12:26:29.099780Z"
    }
   },
   "outputs": [
    {
     "data": {
      "text/plain": [
       "'aieHiii'"
      ]
     },
     "execution_count": 26,
     "metadata": {},
     "output_type": "execute_result"
    }
   ],
   "source": [
    "name[3] + name[7] + name[-1] + \"Hiii\""
   ]
  },
  {
   "cell_type": "code",
   "execution_count": 27,
   "id": "589d660c",
   "metadata": {},
   "outputs": [
    {
     "data": {
      "text/plain": [
       "'Data science course'"
      ]
     },
     "execution_count": 27,
     "metadata": {},
     "output_type": "execute_result"
    }
   ],
   "source": [
    "name[:]"
   ]
  },
  {
   "cell_type": "code",
   "execution_count": 28,
   "id": "8b08349b",
   "metadata": {},
   "outputs": [
    {
     "data": {
      "text/plain": [
       "'name'"
      ]
     },
     "execution_count": 28,
     "metadata": {},
     "output_type": "execute_result"
    }
   ],
   "source": [
    "\"name\"[:]"
   ]
  },
  {
   "cell_type": "code",
   "execution_count": 29,
   "id": "b209ada0",
   "metadata": {},
   "outputs": [
    {
     "data": {
      "text/plain": [
       "'Data science course'"
      ]
     },
     "execution_count": 29,
     "metadata": {},
     "output_type": "execute_result"
    }
   ],
   "source": [
    "name[0:]"
   ]
  },
  {
   "cell_type": "code",
   "execution_count": 30,
   "id": "dd98acb5",
   "metadata": {},
   "outputs": [
    {
     "data": {
      "text/plain": [
       "'Data science cours'"
      ]
     },
     "execution_count": 30,
     "metadata": {},
     "output_type": "execute_result"
    }
   ],
   "source": [
    "name[:-1]"
   ]
  },
  {
   "cell_type": "code",
   "execution_count": 31,
   "id": "da93fcc9",
   "metadata": {},
   "outputs": [
    {
     "data": {
      "text/plain": [
       "'Dt cec ore'"
      ]
     },
     "execution_count": 31,
     "metadata": {},
     "output_type": "execute_result"
    }
   ],
   "source": [
    "name[::2]"
   ]
  },
  {
   "cell_type": "code",
   "execution_count": 33,
   "id": "efa9d420",
   "metadata": {},
   "outputs": [
    {
     "data": {
      "text/plain": [
       "'Data science course'"
      ]
     },
     "execution_count": 33,
     "metadata": {},
     "output_type": "execute_result"
    }
   ],
   "source": [
    "name"
   ]
  },
  {
   "cell_type": "code",
   "execution_count": 32,
   "id": "be6b5e99",
   "metadata": {
    "ExecuteTime": {
     "end_time": "2024-03-10T12:27:54.247497Z",
     "start_time": "2024-03-10T12:27:54.244001Z"
    }
   },
   "outputs": [
    {
     "data": {
      "text/plain": [
       "'esruoc ecneics ataD'"
      ]
     },
     "execution_count": 32,
     "metadata": {},
     "output_type": "execute_result"
    }
   ],
   "source": [
    "name[::-1]"
   ]
  },
  {
   "cell_type": "code",
   "execution_count": 34,
   "id": "b374c605",
   "metadata": {},
   "outputs": [
    {
     "data": {
      "text/plain": [
       "'ero cec tD'"
      ]
     },
     "execution_count": 34,
     "metadata": {},
     "output_type": "execute_result"
    }
   ],
   "source": [
    "name[::-2]"
   ]
  },
  {
   "cell_type": "code",
   "execution_count": 35,
   "id": "9e7dc24a",
   "metadata": {},
   "outputs": [
    {
     "data": {
      "text/plain": [
       "'Data science course'"
      ]
     },
     "execution_count": 35,
     "metadata": {},
     "output_type": "execute_result"
    }
   ],
   "source": [
    "name"
   ]
  },
  {
   "cell_type": "code",
   "execution_count": 36,
   "id": "b40bfba5",
   "metadata": {
    "ExecuteTime": {
     "end_time": "2024-03-10T12:28:20.008839Z",
     "start_time": "2024-03-10T12:28:20.005362Z"
    }
   },
   "outputs": [
    {
     "data": {
      "text/plain": [
       "'D'"
      ]
     },
     "execution_count": 36,
     "metadata": {},
     "output_type": "execute_result"
    }
   ],
   "source": [
    "name[0::-1]"
   ]
  },
  {
   "cell_type": "code",
   "execution_count": 37,
   "id": "700aa79c",
   "metadata": {},
   "outputs": [
    {
     "data": {
      "text/plain": [
       "'ics ataD'"
      ]
     },
     "execution_count": 37,
     "metadata": {},
     "output_type": "execute_result"
    }
   ],
   "source": [
    "name[7::-1]"
   ]
  },
  {
   "cell_type": "code",
   "execution_count": 38,
   "id": "5d5af7de",
   "metadata": {},
   "outputs": [
    {
     "data": {
      "text/plain": [
       "'ience course'"
      ]
     },
     "execution_count": 38,
     "metadata": {},
     "output_type": "execute_result"
    }
   ],
   "source": [
    "name[7:]"
   ]
  },
  {
   "cell_type": "code",
   "execution_count": 39,
   "id": "cd521057",
   "metadata": {},
   "outputs": [
    {
     "data": {
      "text/plain": [
       "'Data science course'"
      ]
     },
     "execution_count": 39,
     "metadata": {},
     "output_type": "execute_result"
    }
   ],
   "source": [
    "name"
   ]
  },
  {
   "cell_type": "code",
   "execution_count": 40,
   "id": "b1ebbddd",
   "metadata": {
    "ExecuteTime": {
     "end_time": "2024-03-10T12:28:40.829068Z",
     "start_time": "2024-03-10T12:28:40.823000Z"
    }
   },
   "outputs": [
    {
     "data": {
      "text/plain": [
       "'aasin'"
      ]
     },
     "execution_count": 40,
     "metadata": {},
     "output_type": "execute_result"
    }
   ],
   "source": [
    "name[1:10:2]"
   ]
  },
  {
   "cell_type": "code",
   "execution_count": 41,
   "id": "3a02dc14",
   "metadata": {},
   "outputs": [
    {
     "data": {
      "text/plain": [
       "''"
      ]
     },
     "execution_count": 41,
     "metadata": {},
     "output_type": "execute_result"
    }
   ],
   "source": [
    "name[10:1:2]"
   ]
  },
  {
   "cell_type": "code",
   "execution_count": 42,
   "id": "0303efc6",
   "metadata": {},
   "outputs": [
    {
     "data": {
      "text/plain": [
       "'Data science course'"
      ]
     },
     "execution_count": 42,
     "metadata": {},
     "output_type": "execute_result"
    }
   ],
   "source": [
    "name"
   ]
  },
  {
   "cell_type": "code",
   "execution_count": 43,
   "id": "04f5566a",
   "metadata": {},
   "outputs": [
    {
     "data": {
      "text/plain": [
       "''"
      ]
     },
     "execution_count": 43,
     "metadata": {},
     "output_type": "execute_result"
    }
   ],
   "source": [
    "name[1:10:-1]"
   ]
  },
  {
   "cell_type": "code",
   "execution_count": 44,
   "id": "ece013d9",
   "metadata": {},
   "outputs": [
    {
     "data": {
      "text/plain": [
       "'cneics at'"
      ]
     },
     "execution_count": 44,
     "metadata": {},
     "output_type": "execute_result"
    }
   ],
   "source": [
    "name[10:1:-1]"
   ]
  },
  {
   "cell_type": "markdown",
   "id": "95d219db",
   "metadata": {},
   "source": [
    "## String Methods"
   ]
  },
  {
   "cell_type": "code",
   "execution_count": 45,
   "id": "30da0247",
   "metadata": {},
   "outputs": [
    {
     "data": {
      "text/plain": [
       "'Data science course'"
      ]
     },
     "execution_count": 45,
     "metadata": {},
     "output_type": "execute_result"
    }
   ],
   "source": [
    "name"
   ]
  },
  {
   "cell_type": "code",
   "execution_count": 46,
   "id": "7f6498eb",
   "metadata": {},
   "outputs": [
    {
     "data": {
      "text/plain": [
       "'data science course'"
      ]
     },
     "execution_count": 46,
     "metadata": {},
     "output_type": "execute_result"
    }
   ],
   "source": [
    "name.lower()"
   ]
  },
  {
   "cell_type": "code",
   "execution_count": 47,
   "id": "7871da00",
   "metadata": {},
   "outputs": [
    {
     "data": {
      "text/plain": [
       "<function str.capitalize()>"
      ]
     },
     "execution_count": 47,
     "metadata": {},
     "output_type": "execute_result"
    }
   ],
   "source": [
    "name.capitalize"
   ]
  },
  {
   "cell_type": "code",
   "execution_count": 48,
   "id": "2c54a64b",
   "metadata": {},
   "outputs": [
    {
     "data": {
      "text/plain": [
       "'Data science course'"
      ]
     },
     "execution_count": 48,
     "metadata": {},
     "output_type": "execute_result"
    }
   ],
   "source": [
    "name.capitalize()"
   ]
  },
  {
   "cell_type": "code",
   "execution_count": 49,
   "id": "d5b91c26",
   "metadata": {},
   "outputs": [
    {
     "ename": "SyntaxError",
     "evalue": "invalid decimal literal (2470306593.py, line 1)",
     "output_type": "error",
     "traceback": [
      "\u001b[1;36m  Cell \u001b[1;32mIn[49], line 1\u001b[1;36m\u001b[0m\n\u001b[1;33m    45.upper()\u001b[0m\n\u001b[1;37m      ^\u001b[0m\n\u001b[1;31mSyntaxError\u001b[0m\u001b[1;31m:\u001b[0m invalid decimal literal\n"
     ]
    }
   ],
   "source": [
    "45.upper()"
   ]
  },
  {
   "cell_type": "code",
   "execution_count": 50,
   "id": "7d4c9c4c",
   "metadata": {
    "ExecuteTime": {
     "end_time": "2024-03-10T12:32:08.895597Z",
     "start_time": "2024-03-10T12:32:08.890910Z"
    }
   },
   "outputs": [
    {
     "data": {
      "text/plain": [
       "'43'"
      ]
     },
     "execution_count": 50,
     "metadata": {},
     "output_type": "execute_result"
    }
   ],
   "source": [
    "\"43\".upper()"
   ]
  },
  {
   "cell_type": "code",
   "execution_count": 51,
   "id": "3c5fcae4",
   "metadata": {},
   "outputs": [
    {
     "ename": "NameError",
     "evalue": "name 'lower' is not defined",
     "output_type": "error",
     "traceback": [
      "\u001b[1;31m---------------------------------------------------------------------------\u001b[0m",
      "\u001b[1;31mNameError\u001b[0m                                 Traceback (most recent call last)",
      "Cell \u001b[1;32mIn[51], line 1\u001b[0m\n\u001b[1;32m----> 1\u001b[0m \u001b[43mlower\u001b[49m()\n",
      "\u001b[1;31mNameError\u001b[0m: name 'lower' is not defined"
     ]
    }
   ],
   "source": [
    "lower()"
   ]
  },
  {
   "cell_type": "code",
   "execution_count": 52,
   "id": "155371c9",
   "metadata": {},
   "outputs": [
    {
     "ename": "NameError",
     "evalue": "name 'lower' is not defined",
     "output_type": "error",
     "traceback": [
      "\u001b[1;31m---------------------------------------------------------------------------\u001b[0m",
      "\u001b[1;31mNameError\u001b[0m                                 Traceback (most recent call last)",
      "Cell \u001b[1;32mIn[52], line 1\u001b[0m\n\u001b[1;32m----> 1\u001b[0m help(\u001b[43mlower\u001b[49m())\n",
      "\u001b[1;31mNameError\u001b[0m: name 'lower' is not defined"
     ]
    }
   ],
   "source": [
    "help(lower())"
   ]
  },
  {
   "cell_type": "code",
   "execution_count": 55,
   "id": "f8394fa3",
   "metadata": {},
   "outputs": [
    {
     "name": "stdout",
     "output_type": "stream",
     "text": [
      "Help on method_descriptor:\n",
      "\n",
      "lower(self, /)\n",
      "    Return a copy of the string converted to lowercase.\n",
      "\n"
     ]
    }
   ],
   "source": [
    "help(str.lower) \n",
    "# while calling with help function, no need to give extra parenthesis"
   ]
  },
  {
   "cell_type": "code",
   "execution_count": 58,
   "id": "58b0aa11",
   "metadata": {},
   "outputs": [
    {
     "name": "stdout",
     "output_type": "stream",
     "text": [
      "Help on built-in function print in module builtins:\n",
      "\n",
      "print(*args, sep=' ', end='\\n', file=None, flush=False)\n",
      "    Prints the values to a stream, or to sys.stdout by default.\n",
      "    \n",
      "    sep\n",
      "      string inserted between values, default a space.\n",
      "    end\n",
      "      string appended after the last value, default a newline.\n",
      "    file\n",
      "      a file-like object (stream); defaults to the current sys.stdout.\n",
      "    flush\n",
      "      whether to forcibly flush the stream.\n",
      "\n"
     ]
    }
   ],
   "source": [
    "help(print)"
   ]
  },
  {
   "cell_type": "code",
   "execution_count": 59,
   "id": "08f1d4d9",
   "metadata": {},
   "outputs": [
    {
     "data": {
      "text/plain": [
       "\"Hi Everyone, Hope You Guys Are Doing Good.\\nWe Are At The First Stages Of Our Datascience Journey.\\nKeep Practicing, No Negative Energy; If No Motivation, No Matter\\nWe Don'T Progress With Motivation, But With Discipline.\\nExecute, Act, Motivation And Inspiration Will Come.\\nAction Doesn'T Need Motivation, But Rather Births It.\""
      ]
     },
     "execution_count": 59,
     "metadata": {},
     "output_type": "execute_result"
    }
   ],
   "source": [
    "\"\"\"Hi everyone, hope you guys are doing good.\n",
    "We are at the first stages of our datascience journey.\n",
    "Keep practicing, no negative energy; if no motivation, no matter\n",
    "we don't progress with motivation, but with discipline.\n",
    "Execute, Act, motivation and inspiration will come.\n",
    "Action doesn't need motivation, but rather births it.\"\"\".title()"
   ]
  },
  {
   "cell_type": "code",
   "execution_count": 61,
   "id": "7ca665d3",
   "metadata": {},
   "outputs": [
    {
     "name": "stdout",
     "output_type": "stream",
     "text": [
      "Watch Your Thoughts; They Become Words;\n",
      "They Become Actions.\n",
      "Watch Your Actions; They Become A Habit.\n",
      "Watch Your Habits; They Become A Character.\n",
      "Watch Your Character; It Becomes Your Destiny.\n"
     ]
    }
   ],
   "source": [
    "print(\"\"\"Watch your thoughts; they become words;\n",
    "they become actions.\n",
    "Watch your actions; they become a habit.\n",
    "Watch your habits; they become a character.\n",
    "Watch your character; it becomes your destiny.\"\"\".title())"
   ]
  },
  {
   "cell_type": "code",
   "execution_count": 62,
   "id": "83c75000",
   "metadata": {},
   "outputs": [
    {
     "data": {
      "text/plain": [
       "'Data science course'"
      ]
     },
     "execution_count": 62,
     "metadata": {},
     "output_type": "execute_result"
    }
   ],
   "source": [
    "name.lower().upper().capitalize()"
   ]
  },
  {
   "cell_type": "code",
   "execution_count": 63,
   "id": "be201bc6",
   "metadata": {},
   "outputs": [
    {
     "data": {
      "text/plain": [
       "'dATA SCIENCE COURSE'"
      ]
     },
     "execution_count": 63,
     "metadata": {},
     "output_type": "execute_result"
    }
   ],
   "source": [
    "name.lower().capitalize().swapcase()"
   ]
  },
  {
   "cell_type": "code",
   "execution_count": 64,
   "id": "b195b415",
   "metadata": {},
   "outputs": [
    {
     "data": {
      "text/plain": [
       "'UAINdt CEC OTap'"
      ]
     },
     "execution_count": 64,
     "metadata": {},
     "output_type": "execute_result"
    }
   ],
   "source": [
    "\"Techpro EDucation DATa science bootCAMP\"[10::2].swapcase()"
   ]
  },
  {
   "cell_type": "code",
   "execution_count": null,
   "id": "b7be5341",
   "metadata": {},
   "outputs": [],
   "source": [
    "\"Techpro EDucation DATa science bootCAMP\"[10::2].Swapcase()"
   ]
  },
  {
   "cell_type": "code",
   "execution_count": 65,
   "id": "b6a3ce5e",
   "metadata": {},
   "outputs": [
    {
     "data": {
      "text/plain": [
       "'HiiiHiii Data Science BootcHiiiHiiiampHiiiHiiiHiii'"
      ]
     },
     "execution_count": 65,
     "metadata": {},
     "output_type": "execute_result"
    }
   ],
   "source": [
    "\"?? Data Science Bootc??amp???\".replace(\"?\",\"Hiii\")"
   ]
  },
  {
   "cell_type": "code",
   "execution_count": 66,
   "id": "b3b78327",
   "metadata": {},
   "outputs": [
    {
     "data": {
      "text/plain": [
       "'       Data Science Bootc      amp         '"
      ]
     },
     "execution_count": 66,
     "metadata": {},
     "output_type": "execute_result"
    }
   ],
   "source": [
    "\"?? Data Science Bootc??amp???\".replace(\"?\",\"   \")"
   ]
  },
  {
   "cell_type": "code",
   "execution_count": 67,
   "id": "d463c999",
   "metadata": {},
   "outputs": [
    {
     "data": {
      "text/plain": [
       "' Data Science Bootcamp'"
      ]
     },
     "execution_count": 67,
     "metadata": {},
     "output_type": "execute_result"
    }
   ],
   "source": [
    "\"?? Data Science Bootc??amp???\".replace(\"?\",\"\")"
   ]
  },
  {
   "cell_type": "code",
   "execution_count": 68,
   "id": "cb2c77af",
   "metadata": {
    "ExecuteTime": {
     "end_time": "2024-03-10T12:40:21.190465Z",
     "start_time": "2024-03-10T12:40:21.183379Z"
    }
   },
   "outputs": [
    {
     "data": {
      "text/plain": [
       "'Data science bootcaamp'"
      ]
     },
     "execution_count": 68,
     "metadata": {},
     "output_type": "execute_result"
    }
   ],
   "source": [
    "\"D?t? science bootc?amp\".replace(\"?\",\"a\")"
   ]
  },
  {
   "cell_type": "code",
   "execution_count": 69,
   "id": "d8babaa0",
   "metadata": {},
   "outputs": [
    {
     "data": {
      "text/plain": [
       "'Data science bootc?amp'"
      ]
     },
     "execution_count": 69,
     "metadata": {},
     "output_type": "execute_result"
    }
   ],
   "source": [
    "\"D?t? science bootc?amp\".replace(\"?\",\"a\",2)"
   ]
  },
  {
   "cell_type": "code",
   "execution_count": 70,
   "id": "5c3b41f0",
   "metadata": {},
   "outputs": [
    {
     "data": {
      "text/plain": [
       "'Data science bootcaamp'"
      ]
     },
     "execution_count": 70,
     "metadata": {},
     "output_type": "execute_result"
    }
   ],
   "source": [
    "\"D?t? science bootc?amp\".replace(\"?\",\"a\",-1)"
   ]
  },
  {
   "cell_type": "code",
   "execution_count": 72,
   "id": "19a6fc8e",
   "metadata": {},
   "outputs": [
    {
     "data": {
      "text/plain": [
       "'Data science bootcaampaaaaaaa'"
      ]
     },
     "execution_count": 72,
     "metadata": {},
     "output_type": "execute_result"
    }
   ],
   "source": [
    "\"D?t? science bootc?amp???????\".replace(\"?\",\"a\",-100)"
   ]
  },
  {
   "cell_type": "code",
   "execution_count": 73,
   "id": "eb2ee09d",
   "metadata": {},
   "outputs": [
    {
     "data": {
      "text/plain": [
       "'Data Science bootcamp'"
      ]
     },
     "execution_count": 73,
     "metadata": {},
     "output_type": "execute_result"
    }
   ],
   "source": [
    "\"Datea Sceience bootcamp\".replace(\"e\",\"\",2)"
   ]
  },
  {
   "cell_type": "code",
   "execution_count": 74,
   "id": "07543815",
   "metadata": {},
   "outputs": [
    {
     "data": {
      "text/plain": [
       "'dATA SCIENCE BOOTCAMP'"
      ]
     },
     "execution_count": 74,
     "metadata": {},
     "output_type": "execute_result"
    }
   ],
   "source": [
    "\"Datea Sceience bootcamp\".replace(\"e\",\"\",2).capitalize().swapcase()"
   ]
  },
  {
   "cell_type": "code",
   "execution_count": 75,
   "id": "81a93c6e",
   "metadata": {
    "ExecuteTime": {
     "end_time": "2024-03-10T12:43:17.144463Z",
     "start_time": "2024-03-10T12:43:17.137783Z"
    }
   },
   "outputs": [],
   "source": [
    "name = \"Techpro Education\""
   ]
  },
  {
   "cell_type": "code",
   "execution_count": 76,
   "id": "6b965536",
   "metadata": {},
   "outputs": [
    {
     "data": {
      "text/plain": [
       "1"
      ]
     },
     "execution_count": 76,
     "metadata": {},
     "output_type": "execute_result"
    }
   ],
   "source": [
    "name.count(\"e\")"
   ]
  },
  {
   "cell_type": "code",
   "execution_count": 77,
   "id": "03c59a7d",
   "metadata": {},
   "outputs": [
    {
     "ename": "TypeError",
     "evalue": "can only concatenate str (not \"int\") to str",
     "output_type": "error",
     "traceback": [
      "\u001b[1;31m---------------------------------------------------------------------------\u001b[0m",
      "\u001b[1;31mTypeError\u001b[0m                                 Traceback (most recent call last)",
      "Cell \u001b[1;32mIn[77], line 1\u001b[0m\n\u001b[1;32m----> 1\u001b[0m \u001b[43mname\u001b[49m\u001b[43m \u001b[49m\u001b[38;5;241;43m+\u001b[39;49m\u001b[43m \u001b[49m\u001b[38;5;124;43m\"\u001b[39;49m\u001b[38;5;124;43m333\u001b[39;49m\u001b[38;5;124;43m\"\u001b[39;49m\u001b[38;5;241;43m.\u001b[39;49m\u001b[43mcount\u001b[49m\u001b[43m(\u001b[49m\u001b[38;5;124;43m\"\u001b[39;49m\u001b[38;5;124;43m3\u001b[39;49m\u001b[38;5;124;43m\"\u001b[39;49m\u001b[43m)\u001b[49m\n",
      "\u001b[1;31mTypeError\u001b[0m: can only concatenate str (not \"int\") to str"
     ]
    }
   ],
   "source": [
    "name + \"333\".count(\"3\")"
   ]
  },
  {
   "cell_type": "code",
   "execution_count": 79,
   "id": "38822934",
   "metadata": {},
   "outputs": [
    {
     "data": {
      "text/plain": [
       "'Techpro Education333'"
      ]
     },
     "execution_count": 79,
     "metadata": {},
     "output_type": "execute_result"
    }
   ],
   "source": [
    "(name + \"333\")"
   ]
  },
  {
   "cell_type": "code",
   "execution_count": 78,
   "id": "c5568705",
   "metadata": {},
   "outputs": [
    {
     "data": {
      "text/plain": [
       "3"
      ]
     },
     "execution_count": 78,
     "metadata": {},
     "output_type": "execute_result"
    }
   ],
   "source": [
    "(name + \"333\").count(\"3\")"
   ]
  },
  {
   "cell_type": "code",
   "execution_count": 80,
   "id": "eee6af0b",
   "metadata": {},
   "outputs": [
    {
     "ename": "AttributeError",
     "evalue": "'int' object has no attribute 'isdigit'",
     "output_type": "error",
     "traceback": [
      "\u001b[1;31m---------------------------------------------------------------------------\u001b[0m",
      "\u001b[1;31mAttributeError\u001b[0m                            Traceback (most recent call last)",
      "Cell \u001b[1;32mIn[80], line 1\u001b[0m\n\u001b[1;32m----> 1\u001b[0m \u001b[43m(\u001b[49m\u001b[43mname\u001b[49m\u001b[43m \u001b[49m\u001b[38;5;241;43m+\u001b[39;49m\u001b[43m \u001b[49m\u001b[38;5;124;43m\"\u001b[39;49m\u001b[38;5;124;43m333\u001b[39;49m\u001b[38;5;124;43m\"\u001b[39;49m\u001b[43m)\u001b[49m\u001b[38;5;241;43m.\u001b[39;49m\u001b[43mcount\u001b[49m\u001b[43m(\u001b[49m\u001b[38;5;124;43m\"\u001b[39;49m\u001b[38;5;124;43m3\u001b[39;49m\u001b[38;5;124;43m\"\u001b[39;49m\u001b[43m)\u001b[49m\u001b[38;5;241;43m.\u001b[39;49m\u001b[43misdigit\u001b[49m()\n",
      "\u001b[1;31mAttributeError\u001b[0m: 'int' object has no attribute 'isdigit'"
     ]
    }
   ],
   "source": [
    "(name + \"333\").count(\"3\").isdigit()"
   ]
  },
  {
   "cell_type": "code",
   "execution_count": 81,
   "id": "97ab6a49",
   "metadata": {},
   "outputs": [
    {
     "data": {
      "text/plain": [
       "1"
      ]
     },
     "execution_count": 81,
     "metadata": {},
     "output_type": "execute_result"
    }
   ],
   "source": [
    "name.lower().count(\"e\" and \"a\")"
   ]
  },
  {
   "cell_type": "code",
   "execution_count": 82,
   "id": "23071fe5",
   "metadata": {},
   "outputs": [
    {
     "data": {
      "text/plain": [
       "4"
      ]
     },
     "execution_count": 82,
     "metadata": {},
     "output_type": "execute_result"
    }
   ],
   "source": [
    "name.lower().count(\"e\" and \"a\") * 4"
   ]
  },
  {
   "cell_type": "code",
   "execution_count": 84,
   "id": "f1b2f30a",
   "metadata": {},
   "outputs": [
    {
     "data": {
      "text/plain": [
       "'techpro education'"
      ]
     },
     "execution_count": 84,
     "metadata": {},
     "output_type": "execute_result"
    }
   ],
   "source": [
    "name.lower()"
   ]
  },
  {
   "cell_type": "code",
   "execution_count": 85,
   "id": "b07ed59b",
   "metadata": {},
   "outputs": [
    {
     "data": {
      "text/plain": [
       "8"
      ]
     },
     "execution_count": 85,
     "metadata": {},
     "output_type": "execute_result"
    }
   ],
   "source": [
    "name.lower().count(\"e\" or \"a\") * 4"
   ]
  },
  {
   "cell_type": "code",
   "execution_count": 86,
   "id": "9d5ba9c0",
   "metadata": {
    "ExecuteTime": {
     "end_time": "2024-03-10T12:46:16.443085Z",
     "start_time": "2024-03-10T12:46:16.440477Z"
    }
   },
   "outputs": [],
   "source": [
    "string1 = \"We are living in the era of Artificial Intelligence\""
   ]
  },
  {
   "cell_type": "code",
   "execution_count": 87,
   "id": "f558d436",
   "metadata": {},
   "outputs": [
    {
     "data": {
      "text/plain": [
       "['We', 'are', 'living', 'in', 'the', 'era', 'of', 'Artificial', 'Intelligence']"
      ]
     },
     "execution_count": 87,
     "metadata": {},
     "output_type": "execute_result"
    }
   ],
   "source": [
    "string1.split()"
   ]
  },
  {
   "cell_type": "code",
   "execution_count": 88,
   "id": "5100ac11",
   "metadata": {},
   "outputs": [
    {
     "data": {
      "text/plain": [
       "['We are living in the era of Artificial Intelligence']"
      ]
     },
     "execution_count": 88,
     "metadata": {},
     "output_type": "execute_result"
    }
   ],
   "source": [
    "string1.split(\"s\")"
   ]
  },
  {
   "cell_type": "code",
   "execution_count": 89,
   "id": "02125525",
   "metadata": {},
   "outputs": [
    {
     "data": {
      "text/plain": [
       "'We are living in the era of Artificial Intelligence'"
      ]
     },
     "execution_count": 89,
     "metadata": {},
     "output_type": "execute_result"
    }
   ],
   "source": [
    "string1"
   ]
  },
  {
   "cell_type": "code",
   "execution_count": 90,
   "id": "bd67756a",
   "metadata": {},
   "outputs": [
    {
     "data": {
      "text/plain": [
       "['We', 'are', 'living in the era of Artificial Intelligence']"
      ]
     },
     "execution_count": 90,
     "metadata": {},
     "output_type": "execute_result"
    }
   ],
   "source": [
    "string1.split(maxsplit=2)"
   ]
  },
  {
   "cell_type": "code",
   "execution_count": 91,
   "id": "a2e02687",
   "metadata": {},
   "outputs": [
    {
     "data": {
      "text/plain": [
       "['W', ' ar', ' living in th', ' era of Artificial Intelligence']"
      ]
     },
     "execution_count": 91,
     "metadata": {},
     "output_type": "execute_result"
    }
   ],
   "source": [
    "string1.split(\"e\",maxsplit=3)"
   ]
  },
  {
   "cell_type": "code",
   "execution_count": 92,
   "id": "75ef8e90",
   "metadata": {},
   "outputs": [
    {
     "data": {
      "text/plain": [
       "'Hiii'"
      ]
     },
     "execution_count": 92,
     "metadata": {},
     "output_type": "execute_result"
    }
   ],
   "source": [
    "\"   Hiii    \".strip()"
   ]
  },
  {
   "cell_type": "code",
   "execution_count": 93,
   "id": "1970cbae",
   "metadata": {},
   "outputs": [
    {
     "data": {
      "text/plain": [
       "'   Hiii'"
      ]
     },
     "execution_count": 93,
     "metadata": {},
     "output_type": "execute_result"
    }
   ],
   "source": [
    "\"   Hiii    \".rstrip()"
   ]
  },
  {
   "cell_type": "code",
   "execution_count": 94,
   "id": "a4b926ba",
   "metadata": {},
   "outputs": [
    {
     "data": {
      "text/plain": [
       "'Hiii    '"
      ]
     },
     "execution_count": 94,
     "metadata": {},
     "output_type": "execute_result"
    }
   ],
   "source": [
    "\"   Hiii    \".lstrip()"
   ]
  },
  {
   "cell_type": "code",
   "execution_count": 95,
   "id": "32475e3e",
   "metadata": {},
   "outputs": [
    {
     "data": {
      "text/plain": [
       "'Hiii'"
      ]
     },
     "execution_count": 95,
     "metadata": {},
     "output_type": "execute_result"
    }
   ],
   "source": [
    "\"???Hiii???\".strip(\"?\")"
   ]
  },
  {
   "cell_type": "code",
   "execution_count": 96,
   "id": "6a7ed22b",
   "metadata": {},
   "outputs": [
    {
     "data": {
      "text/plain": [
       "'   ???Hiii'"
      ]
     },
     "execution_count": 96,
     "metadata": {},
     "output_type": "execute_result"
    }
   ],
   "source": [
    "\"   ???Hiii???\".strip(\"?\")"
   ]
  },
  {
   "cell_type": "code",
   "execution_count": 97,
   "id": "b7e57437",
   "metadata": {},
   "outputs": [
    {
     "data": {
      "text/plain": [
       "'   ???Hiii???'"
      ]
     },
     "execution_count": 97,
     "metadata": {},
     "output_type": "execute_result"
    }
   ],
   "source": [
    "\"   ???Hiii???\".lstrip(\"?\")"
   ]
  },
  {
   "cell_type": "code",
   "execution_count": 98,
   "id": "fe20ca7f",
   "metadata": {},
   "outputs": [
    {
     "data": {
      "text/plain": [
       "'Hiii???    '"
      ]
     },
     "execution_count": 98,
     "metadata": {},
     "output_type": "execute_result"
    }
   ],
   "source": [
    "\"???Hiii???    \".strip(\"?\")"
   ]
  },
  {
   "cell_type": "code",
   "execution_count": null,
   "id": "befb9790",
   "metadata": {},
   "outputs": [],
   "source": [
    "\"???Hiii???    \".rstrip(\"?\")"
   ]
  },
  {
   "cell_type": "code",
   "execution_count": 99,
   "id": "63a7f255",
   "metadata": {},
   "outputs": [
    {
     "data": {
      "text/plain": [
       "5"
      ]
     },
     "execution_count": 99,
     "metadata": {},
     "output_type": "execute_result"
    }
   ],
   "source": [
    "len(\"Hiiii\")"
   ]
  },
  {
   "cell_type": "code",
   "execution_count": 100,
   "id": "447fc7bd",
   "metadata": {},
   "outputs": [
    {
     "data": {
      "text/plain": [
       "4"
      ]
     },
     "execution_count": 100,
     "metadata": {},
     "output_type": "execute_result"
    }
   ],
   "source": [
    "len(\"name\")"
   ]
  },
  {
   "cell_type": "code",
   "execution_count": 101,
   "id": "7c42ce22",
   "metadata": {},
   "outputs": [
    {
     "data": {
      "text/plain": [
       "5"
      ]
     },
     "execution_count": 101,
     "metadata": {},
     "output_type": "execute_result"
    }
   ],
   "source": [
    "name = \"Ahmad\"\n",
    "len(name)"
   ]
  },
  {
   "cell_type": "code",
   "execution_count": 102,
   "id": "7a170d35",
   "metadata": {},
   "outputs": [
    {
     "ename": "TypeError",
     "evalue": "object of type 'int' has no len()",
     "output_type": "error",
     "traceback": [
      "\u001b[1;31m---------------------------------------------------------------------------\u001b[0m",
      "\u001b[1;31mTypeError\u001b[0m                                 Traceback (most recent call last)",
      "Cell \u001b[1;32mIn[102], line 1\u001b[0m\n\u001b[1;32m----> 1\u001b[0m \u001b[38;5;28;43mlen\u001b[39;49m\u001b[43m(\u001b[49m\u001b[38;5;241;43m3453\u001b[39;49m\u001b[43m)\u001b[49m\n",
      "\u001b[1;31mTypeError\u001b[0m: object of type 'int' has no len()"
     ]
    }
   ],
   "source": [
    "len(3453)"
   ]
  },
  {
   "cell_type": "code",
   "execution_count": 103,
   "id": "fd2634b6",
   "metadata": {},
   "outputs": [
    {
     "data": {
      "text/plain": [
       "4"
      ]
     },
     "execution_count": 103,
     "metadata": {},
     "output_type": "execute_result"
    }
   ],
   "source": [
    "len(\"4532\")"
   ]
  },
  {
   "cell_type": "code",
   "execution_count": null,
   "id": "9db84d61",
   "metadata": {},
   "outputs": [],
   "source": []
  }
 ],
 "metadata": {
  "hide_input": false,
  "kernelspec": {
   "display_name": "Python 3 (ipykernel)",
   "language": "python",
   "name": "python3"
  },
  "language_info": {
   "codemirror_mode": {
    "name": "ipython",
    "version": 3
   },
   "file_extension": ".py",
   "mimetype": "text/x-python",
   "name": "python",
   "nbconvert_exporter": "python",
   "pygments_lexer": "ipython3",
   "version": "3.11.1"
  },
  "nbTranslate": {
   "displayLangs": [
    "*"
   ],
   "hotkey": "alt-t",
   "langInMainMenu": true,
   "sourceLang": "en",
   "targetLang": "fr",
   "useGoogleTranslate": true
  },
  "toc": {
   "base_numbering": 1,
   "nav_menu": {},
   "number_sections": true,
   "sideBar": true,
   "skip_h1_title": false,
   "title_cell": "Table of Contents",
   "title_sidebar": "Contents",
   "toc_cell": false,
   "toc_position": {},
   "toc_section_display": true,
   "toc_window_display": false
  },
  "varInspector": {
   "cols": {
    "lenName": 16,
    "lenType": 16,
    "lenVar": 40
   },
   "kernels_config": {
    "python": {
     "delete_cmd_postfix": "",
     "delete_cmd_prefix": "del ",
     "library": "var_list.py",
     "varRefreshCmd": "print(var_dic_list())"
    },
    "r": {
     "delete_cmd_postfix": ") ",
     "delete_cmd_prefix": "rm(",
     "library": "var_list.r",
     "varRefreshCmd": "cat(var_dic_list()) "
    }
   },
   "types_to_exclude": [
    "module",
    "function",
    "builtin_function_or_method",
    "instance",
    "_Feature"
   ],
   "window_display": false
  }
 },
 "nbformat": 4,
 "nbformat_minor": 5
}
