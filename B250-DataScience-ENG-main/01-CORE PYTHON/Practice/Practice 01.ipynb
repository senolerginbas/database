{
 "cells": [
  {
   "cell_type": "markdown",
   "id": "be60f240",
   "metadata": {},
   "source": [
    "## Part 01"
   ]
  },
  {
   "cell_type": "markdown",
   "id": "ae8c1f88",
   "metadata": {},
   "source": [
    "Write a Python code to print \"Hello World\"."
   ]
  },
  {
   "cell_type": "code",
   "execution_count": 1,
   "id": "e7a3c0ee",
   "metadata": {},
   "outputs": [
    {
     "name": "stdout",
     "output_type": "stream",
     "text": [
      "Hello World\n"
     ]
    }
   ],
   "source": [
    "print(\"Hello World\")"
   ]
  },
  {
   "cell_type": "markdown",
   "id": "218f6527",
   "metadata": {},
   "source": [
    "Correct the following code to print \"Hello World\": Print(\"Hello World\")."
   ]
  },
  {
   "cell_type": "code",
   "execution_count": 3,
   "id": "5cb91cde",
   "metadata": {},
   "outputs": [
    {
     "name": "stdout",
     "output_type": "stream",
     "text": [
      "Hello World\n"
     ]
    }
   ],
   "source": [
    "print(\"Hello World\")"
   ]
  },
  {
   "cell_type": "markdown",
   "id": "4057c27e",
   "metadata": {},
   "source": [
    "Fix the syntax error in the following code: print(\"Hello World\" # if a parenthesis is opened, you must close."
   ]
  },
  {
   "cell_type": "code",
   "execution_count": 4,
   "id": "48e8224c",
   "metadata": {},
   "outputs": [
    {
     "name": "stdout",
     "output_type": "stream",
     "text": [
      "Hello World\n"
     ]
    }
   ],
   "source": [
    "print(\"Hello World\")"
   ]
  },
  {
   "cell_type": "markdown",
   "id": "3d8d9697",
   "metadata": {},
   "source": [
    "Fix the syntax error in the following code: print(\"hello world)."
   ]
  },
  {
   "cell_type": "code",
   "execution_count": 5,
   "id": "9565ccd1",
   "metadata": {},
   "outputs": [
    {
     "name": "stdout",
     "output_type": "stream",
     "text": [
      "hello world\n"
     ]
    }
   ],
   "source": [
    "print(\"hello world\")"
   ]
  },
  {
   "cell_type": "markdown",
   "id": "b3d94f38",
   "metadata": {},
   "source": [
    "Write a Python code to print \"Hello\" and \"World\" on separate lines."
   ]
  },
  {
   "cell_type": "code",
   "execution_count": 6,
   "id": "f7b0fe93",
   "metadata": {},
   "outputs": [
    {
     "name": "stdout",
     "output_type": "stream",
     "text": [
      "Hello\n",
      "World\n"
     ]
    }
   ],
   "source": [
    "print(\"Hello\")\n",
    "print(\"World\")"
   ]
  },
  {
   "cell_type": "code",
   "execution_count": 7,
   "id": "1575647d",
   "metadata": {},
   "outputs": [
    {
     "name": "stdout",
     "output_type": "stream",
     "text": [
      "Hello\n"
     ]
    },
    {
     "data": {
      "text/plain": [
       "'World'"
      ]
     },
     "execution_count": 7,
     "metadata": {},
     "output_type": "execute_result"
    }
   ],
   "source": [
    "print(\"Hello\")\n",
    "\"World\""
   ]
  },
  {
   "cell_type": "code",
   "execution_count": 8,
   "id": "81d8815c",
   "metadata": {},
   "outputs": [
    {
     "name": "stdout",
     "output_type": "stream",
     "text": [
      "Hello\n",
      "World\n"
     ]
    }
   ],
   "source": [
    "print(\"Hello\\nWorld\")"
   ]
  },
  {
   "cell_type": "code",
   "execution_count": 9,
   "id": "a0b72cd2",
   "metadata": {},
   "outputs": [
    {
     "name": "stdout",
     "output_type": "stream",
     "text": [
      "Hello\n",
      "World\n"
     ]
    }
   ],
   "source": [
    "print(\"Hello\",\"World\",sep=\"\\n\")"
   ]
  },
  {
   "cell_type": "markdown",
   "id": "e66fdf78",
   "metadata": {},
   "source": [
    "Correct the following code to print \"Hello\" and \"World\" separately:"
   ]
  },
  {
   "cell_type": "code",
   "execution_count": 10,
   "id": "81123afd",
   "metadata": {
    "ExecuteTime": {
     "end_time": "2024-03-03T12:28:25.172137Z",
     "start_time": "2024-03-03T12:28:25.163947Z"
    }
   },
   "outputs": [
    {
     "name": "stdout",
     "output_type": "stream",
     "text": [
      "Hello\n"
     ]
    },
    {
     "data": {
      "text/plain": [
       "'World'"
      ]
     },
     "execution_count": 10,
     "metadata": {},
     "output_type": "execute_result"
    }
   ],
   "source": [
    "print(\"Hello\")\n",
    "\"World\""
   ]
  },
  {
   "cell_type": "code",
   "execution_count": 11,
   "id": "438eb852",
   "metadata": {},
   "outputs": [
    {
     "name": "stdout",
     "output_type": "stream",
     "text": [
      "Hello World\n"
     ]
    }
   ],
   "source": [
    "print(\"Hello\",\"World\")"
   ]
  },
  {
   "cell_type": "code",
   "execution_count": 12,
   "id": "de79004b",
   "metadata": {},
   "outputs": [
    {
     "name": "stdout",
     "output_type": "stream",
     "text": [
      "Hello-World\n"
     ]
    }
   ],
   "source": [
    "print(\"Hello\",\"World\",sep=\"-\")"
   ]
  },
  {
   "cell_type": "markdown",
   "id": "3aeedbdc",
   "metadata": {},
   "source": [
    "Write a Python code to create a multi-line string and print it using triple quotes."
   ]
  },
  {
   "cell_type": "code",
   "execution_count": 13,
   "id": "551a566a",
   "metadata": {},
   "outputs": [
    {
     "name": "stdout",
     "output_type": "stream",
     "text": [
      "This is \n",
      "      a sample\n",
      "      multi line \n",
      "      string\n"
     ]
    }
   ],
   "source": [
    "print(\"\"\"This is \n",
    "      a sample\n",
    "      multi line \n",
    "      string\"\"\")"
   ]
  },
  {
   "cell_type": "markdown",
   "id": "6c40913a",
   "metadata": {
    "ExecuteTime": {
     "end_time": "2024-03-03T12:29:13.317417Z",
     "start_time": "2024-03-03T12:29:13.306153Z"
    }
   },
   "source": [
    "Correct the syntax error in the following code:"
   ]
  },
  {
   "cell_type": "code",
   "execution_count": 14,
   "id": "35de1e5d",
   "metadata": {
    "ExecuteTime": {
     "end_time": "2024-03-03T12:29:27.009873Z",
     "start_time": "2024-03-03T12:29:26.989620Z"
    }
   },
   "outputs": [
    {
     "name": "stdout",
     "output_type": "stream",
     "text": [
      "this \n",
      "      is a\n",
      "        sample \n",
      "        string\n",
      "        \n"
     ]
    }
   ],
   "source": [
    "print(\"\"\"this \n",
    "      is a\n",
    "        sample \n",
    "        string\n",
    "        \"\"\")"
   ]
  },
  {
   "cell_type": "markdown",
   "id": "7df994e3",
   "metadata": {},
   "source": [
    "Fix the syntax error in the following code: print('hello world\")."
   ]
  },
  {
   "cell_type": "code",
   "execution_count": 15,
   "id": "e20e3a70",
   "metadata": {},
   "outputs": [
    {
     "ename": "SyntaxError",
     "evalue": "unterminated string literal (detected at line 1) (1762878097.py, line 1)",
     "output_type": "error",
     "traceback": [
      "\u001b[1;36m  Cell \u001b[1;32mIn[15], line 1\u001b[1;36m\u001b[0m\n\u001b[1;33m    print('hello world\")\u001b[0m\n\u001b[1;37m          ^\u001b[0m\n\u001b[1;31mSyntaxError\u001b[0m\u001b[1;31m:\u001b[0m unterminated string literal (detected at line 1)\n"
     ]
    }
   ],
   "source": [
    "print('hello world\")"
   ]
  },
  {
   "cell_type": "code",
   "execution_count": 16,
   "id": "91279044",
   "metadata": {},
   "outputs": [
    {
     "name": "stdout",
     "output_type": "stream",
     "text": [
      "hello world\"\n"
     ]
    }
   ],
   "source": [
    "print('hello world\"')"
   ]
  },
  {
   "cell_type": "code",
   "execution_count": 17,
   "id": "5f58a92b",
   "metadata": {},
   "outputs": [
    {
     "name": "stdout",
     "output_type": "stream",
     "text": [
      "hello world\n"
     ]
    }
   ],
   "source": [
    "print('hello world')"
   ]
  },
  {
   "cell_type": "code",
   "execution_count": 18,
   "id": "da3fa513",
   "metadata": {},
   "outputs": [
    {
     "name": "stdout",
     "output_type": "stream",
     "text": [
      "'hello world\n"
     ]
    }
   ],
   "source": [
    "print(\"'hello world\")"
   ]
  },
  {
   "cell_type": "code",
   "execution_count": 19,
   "id": "944708aa",
   "metadata": {},
   "outputs": [
    {
     "name": "stdout",
     "output_type": "stream",
     "text": [
      "hello world\n"
     ]
    }
   ],
   "source": [
    "print(\"hello world\")"
   ]
  },
  {
   "cell_type": "markdown",
   "id": "6c153f58",
   "metadata": {},
   "source": [
    "Correct the syntax error in the following code: print(\"\"\"\"\"\"\")."
   ]
  },
  {
   "cell_type": "code",
   "execution_count": 20,
   "id": "95baadee",
   "metadata": {},
   "outputs": [
    {
     "ename": "SyntaxError",
     "evalue": "unterminated string literal (detected at line 1) (3465750001.py, line 1)",
     "output_type": "error",
     "traceback": [
      "\u001b[1;36m  Cell \u001b[1;32mIn[20], line 1\u001b[1;36m\u001b[0m\n\u001b[1;33m    print(\"\"\"\"\"\"\")\u001b[0m\n\u001b[1;37m                ^\u001b[0m\n\u001b[1;31mSyntaxError\u001b[0m\u001b[1;31m:\u001b[0m unterminated string literal (detected at line 1)\n"
     ]
    }
   ],
   "source": [
    "print(\"\"\"\"\"\"\")"
   ]
  },
  {
   "cell_type": "code",
   "execution_count": 21,
   "id": "12f60f5f",
   "metadata": {},
   "outputs": [
    {
     "name": "stdout",
     "output_type": "stream",
     "text": [
      "\n"
     ]
    }
   ],
   "source": [
    "print(\"\"\"\"\"\")"
   ]
  },
  {
   "cell_type": "code",
   "execution_count": 22,
   "id": "9a005c02",
   "metadata": {},
   "outputs": [
    {
     "name": "stdout",
     "output_type": "stream",
     "text": [
      "\n"
     ]
    }
   ],
   "source": [
    "print(\"\"\"\"\"\"\"\")"
   ]
  },
  {
   "cell_type": "code",
   "execution_count": 23,
   "id": "a7530342",
   "metadata": {},
   "outputs": [
    {
     "name": "stdout",
     "output_type": "stream",
     "text": [
      " \" \n"
     ]
    }
   ],
   "source": [
    "print(\"\"\" \" \"\"\")"
   ]
  },
  {
   "cell_type": "markdown",
   "id": "4c89611c",
   "metadata": {},
   "source": [
    "Write a Python code to print the string ' '."
   ]
  },
  {
   "cell_type": "code",
   "execution_count": 26,
   "id": "fb0947bf",
   "metadata": {},
   "outputs": [
    {
     "name": "stdout",
     "output_type": "stream",
     "text": [
      " ''  \n"
     ]
    }
   ],
   "source": [
    "print (\" \\'\\'  \")"
   ]
  },
  {
   "cell_type": "code",
   "execution_count": 25,
   "id": "49b8cfd0",
   "metadata": {},
   "outputs": [
    {
     "name": "stdout",
     "output_type": "stream",
     "text": [
      "''\n"
     ]
    }
   ],
   "source": [
    "print(\"''\")"
   ]
  },
  {
   "cell_type": "markdown",
   "id": "97de8410",
   "metadata": {},
   "source": [
    "What will be the output of the following code?"
   ]
  },
  {
   "cell_type": "code",
   "execution_count": 27,
   "id": "97a5501b",
   "metadata": {},
   "outputs": [
    {
     "name": "stdout",
     "output_type": "stream",
     "text": [
      "\n",
      "\n",
      "\" \n"
     ]
    }
   ],
   "source": [
    "print(\"\"\"\"\"\")\n",
    "print(\"\"\"\"\"\")\n",
    "print(\"\"\"\" \"\"\")"
   ]
  },
  {
   "cell_type": "markdown",
   "id": "5fa05132",
   "metadata": {},
   "source": [
    "## Part 02"
   ]
  },
  {
   "cell_type": "markdown",
   "id": "da6dec63",
   "metadata": {},
   "source": [
    "### A) Creating variables"
   ]
  },
  {
   "cell_type": "markdown",
   "id": "aacac62a",
   "metadata": {},
   "source": [
    "Declare a variable called name and assign it the value \"John\"."
   ]
  },
  {
   "cell_type": "code",
   "execution_count": 33,
   "id": "a0bc5bf9",
   "metadata": {},
   "outputs": [
    {
     "data": {
      "text/plain": [
       "'John'"
      ]
     },
     "execution_count": 33,
     "metadata": {},
     "output_type": "execute_result"
    }
   ],
   "source": [
    "name = \"John\"\n",
    "name"
   ]
  },
  {
   "cell_type": "markdown",
   "id": "a62185ff",
   "metadata": {},
   "source": [
    "Create a variable named age and set it to 25."
   ]
  },
  {
   "cell_type": "code",
   "execution_count": 34,
   "id": "763e557b",
   "metadata": {},
   "outputs": [
    {
     "data": {
      "text/plain": [
       "25"
      ]
     },
     "execution_count": 34,
     "metadata": {},
     "output_type": "execute_result"
    }
   ],
   "source": [
    "age = 25\n",
    "age"
   ]
  },
  {
   "cell_type": "markdown",
   "id": "41685320",
   "metadata": {},
   "source": [
    "Initialize a variable named pi and assign it the value 3.14."
   ]
  },
  {
   "cell_type": "code",
   "execution_count": 35,
   "id": "fbbf1f0d",
   "metadata": {},
   "outputs": [
    {
     "data": {
      "text/plain": [
       "3.14"
      ]
     },
     "execution_count": 35,
     "metadata": {},
     "output_type": "execute_result"
    }
   ],
   "source": [
    "pi = 3.14\n",
    "pi"
   ]
  },
  {
   "cell_type": "markdown",
   "id": "8544b6aa",
   "metadata": {},
   "source": [
    "Assign the string \"Python\" to a variable called language."
   ]
  },
  {
   "cell_type": "code",
   "execution_count": 36,
   "id": "11d6a196",
   "metadata": {},
   "outputs": [
    {
     "data": {
      "text/plain": [
       "'Python'"
      ]
     },
     "execution_count": 36,
     "metadata": {},
     "output_type": "execute_result"
    }
   ],
   "source": [
    "language = \"Python\"\n",
    "language"
   ]
  },
  {
   "cell_type": "markdown",
   "id": "a371e5f6",
   "metadata": {},
   "source": [
    "Declare a variable named is_student and set it to True."
   ]
  },
  {
   "cell_type": "code",
   "execution_count": 37,
   "id": "0387b337",
   "metadata": {},
   "outputs": [
    {
     "data": {
      "text/plain": [
       "True"
      ]
     },
     "execution_count": 37,
     "metadata": {},
     "output_type": "execute_result"
    }
   ],
   "source": [
    "is_student = True\n",
    "is_student"
   ]
  },
  {
   "cell_type": "markdown",
   "id": "786fb617",
   "metadata": {},
   "source": [
    "### B) Variable Names"
   ]
  },
  {
   "cell_type": "markdown",
   "id": "986e99c1",
   "metadata": {},
   "source": [
    "Which of the following variable names is valid in Python: my_var, 123var, variable_name, or Var$?"
   ]
  },
  {
   "cell_type": "code",
   "execution_count": 39,
   "id": "7eecc686",
   "metadata": {},
   "outputs": [
    {
     "data": {
      "text/plain": [
       "89"
      ]
     },
     "execution_count": 39,
     "metadata": {},
     "output_type": "execute_result"
    }
   ],
   "source": [
    "my_var = 89\n",
    "my_var"
   ]
  },
  {
   "cell_type": "code",
   "execution_count": 40,
   "id": "97a764cb",
   "metadata": {},
   "outputs": [
    {
     "ename": "SyntaxError",
     "evalue": "invalid decimal literal (2876293152.py, line 1)",
     "output_type": "error",
     "traceback": [
      "\u001b[1;36m  Cell \u001b[1;32mIn[40], line 1\u001b[1;36m\u001b[0m\n\u001b[1;33m    123var = 345\u001b[0m\n\u001b[1;37m      ^\u001b[0m\n\u001b[1;31mSyntaxError\u001b[0m\u001b[1;31m:\u001b[0m invalid decimal literal\n"
     ]
    }
   ],
   "source": [
    "123var = 345"
   ]
  },
  {
   "cell_type": "code",
   "execution_count": 41,
   "id": "6dee6ea2",
   "metadata": {},
   "outputs": [
    {
     "data": {
      "text/plain": [
       "'Name'"
      ]
     },
     "execution_count": 41,
     "metadata": {},
     "output_type": "execute_result"
    }
   ],
   "source": [
    "variable_name = \"Name\"\n",
    "variable_name"
   ]
  },
  {
   "cell_type": "code",
   "execution_count": 42,
   "id": "d39a3c8f",
   "metadata": {},
   "outputs": [
    {
     "ename": "SyntaxError",
     "evalue": "invalid syntax (284543604.py, line 1)",
     "output_type": "error",
     "traceback": [
      "\u001b[1;36m  Cell \u001b[1;32mIn[42], line 1\u001b[1;36m\u001b[0m\n\u001b[1;33m    Var$ = \"Ahmad\"\u001b[0m\n\u001b[1;37m       ^\u001b[0m\n\u001b[1;31mSyntaxError\u001b[0m\u001b[1;31m:\u001b[0m invalid syntax\n"
     ]
    }
   ],
   "source": [
    "Var$ = \"Ahmad\" # Name of variable cannot be same as a python function"
   ]
  },
  {
   "cell_type": "code",
   "execution_count": 43,
   "id": "dc97dbb1",
   "metadata": {},
   "outputs": [],
   "source": [
    "print = \"this is true\""
   ]
  },
  {
   "cell_type": "code",
   "execution_count": null,
   "id": "75f192be",
   "metadata": {},
   "outputs": [],
   "source": [
    "input()"
   ]
  },
  {
   "cell_type": "markdown",
   "id": "2af648f9",
   "metadata": {},
   "source": [
    "True or False: Variable names in Python are case-sensitive."
   ]
  },
  {
   "cell_type": "code",
   "execution_count": 45,
   "id": "4a3bb4bd",
   "metadata": {},
   "outputs": [],
   "source": [
    "name = \"Ahmad\"\n",
    "Name = \"Jawid\""
   ]
  },
  {
   "cell_type": "code",
   "execution_count": 46,
   "id": "cde07ef4",
   "metadata": {},
   "outputs": [
    {
     "data": {
      "text/plain": [
       "'Ahmad'"
      ]
     },
     "execution_count": 46,
     "metadata": {},
     "output_type": "execute_result"
    }
   ],
   "source": [
    "name"
   ]
  },
  {
   "cell_type": "code",
   "execution_count": 47,
   "id": "ff04e46f",
   "metadata": {},
   "outputs": [
    {
     "data": {
      "text/plain": [
       "'Jawid'"
      ]
     },
     "execution_count": 47,
     "metadata": {},
     "output_type": "execute_result"
    }
   ],
   "source": [
    "Name"
   ]
  },
  {
   "cell_type": "markdown",
   "id": "4f910b91",
   "metadata": {},
   "source": [
    "Is my_variable a valid variable name?"
   ]
  },
  {
   "cell_type": "code",
   "execution_count": 48,
   "id": "18ed2f58",
   "metadata": {},
   "outputs": [
    {
     "data": {
      "text/plain": [
       "'Yes'"
      ]
     },
     "execution_count": 48,
     "metadata": {},
     "output_type": "execute_result"
    }
   ],
   "source": [
    "\"Yes\""
   ]
  },
  {
   "cell_type": "markdown",
   "id": "82fa5bfd",
   "metadata": {},
   "source": [
    "Identify the incorrect variable name: my_variable, MyVariable, my-variable, or my_variable_123?"
   ]
  },
  {
   "cell_type": "code",
   "execution_count": 49,
   "id": "de285071",
   "metadata": {},
   "outputs": [
    {
     "data": {
      "text/plain": [
       "'my-variable'"
      ]
     },
     "execution_count": 49,
     "metadata": {},
     "output_type": "execute_result"
    }
   ],
   "source": [
    "\"my-variable\""
   ]
  },
  {
   "cell_type": "markdown",
   "id": "f3c39a2e",
   "metadata": {},
   "source": [
    "Which of the following is a valid variable name: my_variable, my variable, or my-variable?"
   ]
  },
  {
   "cell_type": "code",
   "execution_count": 50,
   "id": "77568e9c",
   "metadata": {},
   "outputs": [],
   "source": [
    "my_variable = \"hello\""
   ]
  },
  {
   "cell_type": "markdown",
   "id": "c1579772",
   "metadata": {},
   "source": [
    "### C) Declaring multiple variables"
   ]
  },
  {
   "cell_type": "markdown",
   "id": "7a1af1b7",
   "metadata": {},
   "source": [
    "Create three variables x, y, and z and assign them values 10, 20, and 30 respectively in a single line."
   ]
  },
  {
   "cell_type": "code",
   "execution_count": 1,
   "id": "abff8fb5",
   "metadata": {},
   "outputs": [
    {
     "name": "stdout",
     "output_type": "stream",
     "text": [
      "10 20 30\n"
     ]
    }
   ],
   "source": [
    "x, y, z = 10, 20, 30\n",
    "print(x,y,z)"
   ]
  },
  {
   "cell_type": "markdown",
   "id": "07c796fc",
   "metadata": {},
   "source": [
    "Initialize two variables a and b with the same value of 5 in a single line."
   ]
  },
  {
   "cell_type": "code",
   "execution_count": 2,
   "id": "da646ed9",
   "metadata": {},
   "outputs": [
    {
     "name": "stdout",
     "output_type": "stream",
     "text": [
      "5 5\n"
     ]
    }
   ],
   "source": [
    "a = b = 5\n",
    "print(a,b)"
   ]
  },
  {
   "cell_type": "markdown",
   "id": "f9ae0126",
   "metadata": {},
   "source": [
    "### D) Data Types and Conversion"
   ]
  },
  {
   "cell_type": "markdown",
   "id": "1cc6213b",
   "metadata": {},
   "source": [
    "Convert the string \"10\" to an integer."
   ]
  },
  {
   "cell_type": "code",
   "execution_count": 3,
   "id": "477d8a34",
   "metadata": {},
   "outputs": [
    {
     "data": {
      "text/plain": [
       "10"
      ]
     },
     "execution_count": 3,
     "metadata": {},
     "output_type": "execute_result"
    }
   ],
   "source": [
    "int(\"10\")"
   ]
  },
  {
   "cell_type": "markdown",
   "id": "a2738d59",
   "metadata": {},
   "source": [
    "Convert the integer 25 to a string."
   ]
  },
  {
   "cell_type": "code",
   "execution_count": 4,
   "id": "0341130a",
   "metadata": {},
   "outputs": [
    {
     "data": {
      "text/plain": [
       "'25'"
      ]
     },
     "execution_count": 4,
     "metadata": {},
     "output_type": "execute_result"
    }
   ],
   "source": [
    "str(25)"
   ]
  },
  {
   "cell_type": "markdown",
   "id": "1fadb43e",
   "metadata": {},
   "source": [
    "Change the float value 3.14 to an integer."
   ]
  },
  {
   "cell_type": "code",
   "execution_count": 5,
   "id": "10fb1faf",
   "metadata": {},
   "outputs": [
    {
     "data": {
      "text/plain": [
       "3"
      ]
     },
     "execution_count": 5,
     "metadata": {},
     "output_type": "execute_result"
    }
   ],
   "source": [
    "int(3.14)"
   ]
  },
  {
   "cell_type": "markdown",
   "id": "7f925535",
   "metadata": {},
   "source": [
    "Convert the boolean value True to an integer."
   ]
  },
  {
   "cell_type": "code",
   "execution_count": 6,
   "id": "eedc64d2",
   "metadata": {},
   "outputs": [
    {
     "data": {
      "text/plain": [
       "1"
      ]
     },
     "execution_count": 6,
     "metadata": {},
     "output_type": "execute_result"
    }
   ],
   "source": [
    "int(True)"
   ]
  },
  {
   "cell_type": "markdown",
   "id": "508652ab",
   "metadata": {},
   "source": [
    "Convert the string \"3.14\" to a float."
   ]
  },
  {
   "cell_type": "code",
   "execution_count": 7,
   "id": "5877fef9",
   "metadata": {},
   "outputs": [
    {
     "data": {
      "text/plain": [
       "3.14"
      ]
     },
     "execution_count": 7,
     "metadata": {},
     "output_type": "execute_result"
    }
   ],
   "source": [
    "float(\"3.14\")"
   ]
  },
  {
   "cell_type": "markdown",
   "id": "43ea7cef",
   "metadata": {},
   "source": [
    "Convert the string \"3.14\" to a int."
   ]
  },
  {
   "cell_type": "code",
   "execution_count": 8,
   "id": "7f06bfac",
   "metadata": {},
   "outputs": [
    {
     "data": {
      "text/plain": [
       "int"
      ]
     },
     "execution_count": 8,
     "metadata": {},
     "output_type": "execute_result"
    }
   ],
   "source": [
    "stst = float(\"3.14\")\n",
    "stst = int(stst)\n",
    "type (stst)"
   ]
  },
  {
   "cell_type": "markdown",
   "id": "ecf902c4",
   "metadata": {},
   "source": [
    "### E) Arithmetic Operations"
   ]
  },
  {
   "cell_type": "markdown",
   "id": "adde7bf2",
   "metadata": {},
   "source": [
    "Perform addition of 10 and 5."
   ]
  },
  {
   "cell_type": "code",
   "execution_count": 9,
   "id": "4d6bcaa8",
   "metadata": {},
   "outputs": [
    {
     "data": {
      "text/plain": [
       "15"
      ]
     },
     "execution_count": 9,
     "metadata": {},
     "output_type": "execute_result"
    }
   ],
   "source": [
    "10 + 5"
   ]
  },
  {
   "cell_type": "markdown",
   "id": "748b94ed",
   "metadata": {},
   "source": [
    "Calculate the result of 25 minus 7."
   ]
  },
  {
   "cell_type": "code",
   "execution_count": 10,
   "id": "875f0ea3",
   "metadata": {},
   "outputs": [
    {
     "data": {
      "text/plain": [
       "18"
      ]
     },
     "execution_count": 10,
     "metadata": {},
     "output_type": "execute_result"
    }
   ],
   "source": [
    "25 - 7"
   ]
  },
  {
   "cell_type": "markdown",
   "id": "c0fe44a3",
   "metadata": {},
   "source": [
    "Multiply 5 by 4."
   ]
  },
  {
   "cell_type": "code",
   "execution_count": 11,
   "id": "51933630",
   "metadata": {},
   "outputs": [
    {
     "data": {
      "text/plain": [
       "20"
      ]
     },
     "execution_count": 11,
     "metadata": {},
     "output_type": "execute_result"
    }
   ],
   "source": [
    "5 * 4"
   ]
  },
  {
   "cell_type": "markdown",
   "id": "4be326c7",
   "metadata": {},
   "source": [
    "Divide 20 by 3."
   ]
  },
  {
   "cell_type": "code",
   "execution_count": 13,
   "id": "1ae1bdbb",
   "metadata": {},
   "outputs": [
    {
     "data": {
      "text/plain": [
       "6.666666666666667"
      ]
     },
     "execution_count": 13,
     "metadata": {},
     "output_type": "execute_result"
    }
   ],
   "source": [
    "20 / 3"
   ]
  },
  {
   "cell_type": "markdown",
   "id": "f752c33e",
   "metadata": {},
   "source": [
    "Calculate the integer division of 21 by 4."
   ]
  },
  {
   "cell_type": "code",
   "execution_count": 15,
   "id": "c85ac000",
   "metadata": {},
   "outputs": [
    {
     "data": {
      "text/plain": [
       "5"
      ]
     },
     "execution_count": 15,
     "metadata": {},
     "output_type": "execute_result"
    }
   ],
   "source": [
    "21 // 4 \n",
    "# the integer division is the floor division"
   ]
  },
  {
   "cell_type": "markdown",
   "id": "1cb8b3d9",
   "metadata": {},
   "source": [
    "Find the remainder when 17 is divided by 5."
   ]
  },
  {
   "cell_type": "code",
   "execution_count": 16,
   "id": "220ce2de",
   "metadata": {},
   "outputs": [
    {
     "data": {
      "text/plain": [
       "2"
      ]
     },
     "execution_count": 16,
     "metadata": {},
     "output_type": "execute_result"
    }
   ],
   "source": [
    "17 % 5"
   ]
  },
  {
   "cell_type": "markdown",
   "id": "73c83bc5",
   "metadata": {},
   "source": [
    "Calculate 2 raised to the power of 5."
   ]
  },
  {
   "cell_type": "code",
   "execution_count": 17,
   "id": "ad361440",
   "metadata": {},
   "outputs": [
    {
     "data": {
      "text/plain": [
       "32"
      ]
     },
     "execution_count": 17,
     "metadata": {},
     "output_type": "execute_result"
    }
   ],
   "source": [
    "2 ** 5"
   ]
  },
  {
   "cell_type": "markdown",
   "id": "f6f2423e",
   "metadata": {},
   "source": [
    "Compute the square root of 144."
   ]
  },
  {
   "cell_type": "code",
   "execution_count": 18,
   "id": "a7abdd18",
   "metadata": {},
   "outputs": [
    {
     "data": {
      "text/plain": [
       "12.0"
      ]
     },
     "execution_count": 18,
     "metadata": {},
     "output_type": "execute_result"
    }
   ],
   "source": [
    "144 ** 0.5 # square root == 1/2 == 0.5"
   ]
  },
  {
   "cell_type": "markdown",
   "id": "6fd0f370",
   "metadata": {},
   "source": [
    "Calculate the value of 7 squared."
   ]
  },
  {
   "cell_type": "code",
   "execution_count": 19,
   "id": "282082cd",
   "metadata": {},
   "outputs": [
    {
     "data": {
      "text/plain": [
       "49"
      ]
     },
     "execution_count": 19,
     "metadata": {},
     "output_type": "execute_result"
    }
   ],
   "source": [
    "7 ** 2"
   ]
  },
  {
   "cell_type": "markdown",
   "id": "bbe835b4",
   "metadata": {},
   "source": [
    "What is the result of 9 raised to the power of 0?"
   ]
  },
  {
   "cell_type": "code",
   "execution_count": 20,
   "id": "7709a3c9",
   "metadata": {},
   "outputs": [
    {
     "data": {
      "text/plain": [
       "1"
      ]
     },
     "execution_count": 20,
     "metadata": {},
     "output_type": "execute_result"
    }
   ],
   "source": [
    "9 ** 0"
   ]
  },
  {
   "cell_type": "markdown",
   "id": "8e1da009",
   "metadata": {},
   "source": [
    "### F) Variable Shortcuts"
   ]
  },
  {
   "cell_type": "markdown",
   "id": "572af8bd",
   "metadata": {},
   "source": [
    "Given x = 10, perform the operation x += 5. What is the new value of x?"
   ]
  },
  {
   "cell_type": "code",
   "execution_count": 5,
   "id": "49c3ec8b",
   "metadata": {},
   "outputs": [],
   "source": [
    "x = 10\n",
    "x = x + 5"
   ]
  },
  {
   "cell_type": "code",
   "execution_count": 6,
   "id": "0f483a53",
   "metadata": {},
   "outputs": [
    {
     "data": {
      "text/plain": [
       "15"
      ]
     },
     "execution_count": 6,
     "metadata": {},
     "output_type": "execute_result"
    }
   ],
   "source": [
    "x"
   ]
  },
  {
   "cell_type": "code",
   "execution_count": 7,
   "id": "7b5a5d8e",
   "metadata": {},
   "outputs": [],
   "source": [
    "x = 10\n",
    "x += 5"
   ]
  },
  {
   "cell_type": "code",
   "execution_count": 8,
   "id": "b468f618",
   "metadata": {},
   "outputs": [
    {
     "data": {
      "text/plain": [
       "15"
      ]
     },
     "execution_count": 8,
     "metadata": {},
     "output_type": "execute_result"
    }
   ],
   "source": [
    "x"
   ]
  },
  {
   "cell_type": "markdown",
   "id": "9d197546",
   "metadata": {},
   "source": [
    "If y = 8, apply the operation y -= 3. What is the updated value of y?"
   ]
  },
  {
   "cell_type": "code",
   "execution_count": 9,
   "id": "b9c87818",
   "metadata": {},
   "outputs": [],
   "source": [
    "y = 8\n",
    "y -= 3"
   ]
  },
  {
   "cell_type": "code",
   "execution_count": 10,
   "id": "bdd69663",
   "metadata": {},
   "outputs": [
    {
     "data": {
      "text/plain": [
       "5"
      ]
     },
     "execution_count": 10,
     "metadata": {},
     "output_type": "execute_result"
    }
   ],
   "source": [
    "y"
   ]
  },
  {
   "cell_type": "markdown",
   "id": "8ba2afc3",
   "metadata": {},
   "source": [
    "Initialize a with the value 15. Use the shortcut a *= 3. What is the new value of a?"
   ]
  },
  {
   "cell_type": "code",
   "execution_count": 11,
   "id": "f1265213",
   "metadata": {},
   "outputs": [],
   "source": [
    "a = 15\n",
    "a *= 3"
   ]
  },
  {
   "cell_type": "code",
   "execution_count": 12,
   "id": "004afcb8",
   "metadata": {},
   "outputs": [
    {
     "data": {
      "text/plain": [
       "45"
      ]
     },
     "execution_count": 12,
     "metadata": {},
     "output_type": "execute_result"
    }
   ],
   "source": [
    "a"
   ]
  },
  {
   "cell_type": "markdown",
   "id": "7954437e",
   "metadata": {},
   "source": [
    "If b = 20, apply the operation b /= 4. What is the resulting value of b?"
   ]
  },
  {
   "cell_type": "code",
   "execution_count": 14,
   "id": "36041c8f",
   "metadata": {},
   "outputs": [
    {
     "data": {
      "text/plain": [
       "5.0"
      ]
     },
     "execution_count": 14,
     "metadata": {},
     "output_type": "execute_result"
    }
   ],
   "source": [
    "b = 20\n",
    "b /= 4\n",
    "b"
   ]
  },
  {
   "cell_type": "markdown",
   "id": "eb32a6d4",
   "metadata": {},
   "source": [
    "Start with c = 5. Use the shortcut c += 10. What is the final value of c?"
   ]
  },
  {
   "cell_type": "code",
   "execution_count": 15,
   "id": "286123bc",
   "metadata": {},
   "outputs": [
    {
     "data": {
      "text/plain": [
       "15"
      ]
     },
     "execution_count": 15,
     "metadata": {},
     "output_type": "execute_result"
    }
   ],
   "source": [
    "c = 5 # if division or a float data is involved, the result will be float.\n",
    "c += 10\n",
    "c"
   ]
  },
  {
   "cell_type": "markdown",
   "id": "ec5f167b",
   "metadata": {},
   "source": [
    "Given d = 12, perform d //= 4. What is the updated value of d?"
   ]
  },
  {
   "cell_type": "code",
   "execution_count": 16,
   "id": "55cc01ed",
   "metadata": {},
   "outputs": [
    {
     "data": {
      "text/plain": [
       "3"
      ]
     },
     "execution_count": 16,
     "metadata": {},
     "output_type": "execute_result"
    }
   ],
   "source": [
    "d = 12\n",
    "d //= 4\n",
    "d"
   ]
  },
  {
   "cell_type": "code",
   "execution_count": 17,
   "id": "b430a745",
   "metadata": {},
   "outputs": [
    {
     "data": {
      "text/plain": [
       "3"
      ]
     },
     "execution_count": 17,
     "metadata": {},
     "output_type": "execute_result"
    }
   ],
   "source": [
    "d = 22\n",
    "d //= 7\n",
    "d"
   ]
  },
  {
   "cell_type": "markdown",
   "id": "33794e1d",
   "metadata": {},
   "source": [
    "Initialize e with the value 25. Use the shortcut e **= 2. What is the new value of e?"
   ]
  },
  {
   "cell_type": "markdown",
   "id": "b81a7b33",
   "metadata": {},
   "source": [
    "If f = 16, apply the operation f %= 7. What is the resulting value of f?"
   ]
  },
  {
   "cell_type": "markdown",
   "id": "a3b4e57d",
   "metadata": {},
   "source": [
    "Start with g = 7. Use the shortcut g *= 3. What is the final value of g?"
   ]
  },
  {
   "cell_type": "markdown",
   "id": "5ec01559",
   "metadata": {},
   "source": [
    "Given h = 30, perform h //= 5. What is the updated value of h?"
   ]
  },
  {
   "cell_type": "markdown",
   "id": "6fe40610",
   "metadata": {},
   "source": [
    "## Part 03"
   ]
  },
  {
   "cell_type": "markdown",
   "id": "536512cd",
   "metadata": {},
   "source": [
    "Modify the following codes to print the expected output:"
   ]
  },
  {
   "cell_type": "code",
   "execution_count": 21,
   "id": "d3dda93a",
   "metadata": {},
   "outputs": [
    {
     "name": "stdout",
     "output_type": "stream",
     "text": [
      "Hello World\n"
     ]
    }
   ],
   "source": [
    "print(\"Hello\", \"World\") # Expected Output Hello World"
   ]
  },
  {
   "cell_type": "code",
   "execution_count": 23,
   "id": "ad174421",
   "metadata": {
    "ExecuteTime": {
     "end_time": "2024-03-03T12:56:03.955665Z",
     "start_time": "2024-03-03T12:56:03.948717Z"
    }
   },
   "outputs": [
    {
     "name": "stdout",
     "output_type": "stream",
     "text": [
      "1-2-3\n"
     ]
    }
   ],
   "source": [
    "print(1,2,3,sep = \"-\") # expected output 1-2-3"
   ]
  },
  {
   "cell_type": "code",
   "execution_count": 24,
   "id": "7a118fda",
   "metadata": {},
   "outputs": [
    {
     "name": "stdout",
     "output_type": "stream",
     "text": [
      "apple, banana, cherry\n"
     ]
    }
   ],
   "source": [
    "print(\"apple\", \"banana\", \"cherry\",sep = \", \") # expected output apple, banana, cherry"
   ]
  },
  {
   "cell_type": "code",
   "execution_count": 25,
   "id": "613417b3",
   "metadata": {},
   "outputs": [
    {
     "name": "stdout",
     "output_type": "stream",
     "text": [
      "10: 20: 30\n"
     ]
    }
   ],
   "source": [
    "print(10, 20, 30,sep = \": \") # expected output 10: 20: 30"
   ]
  },
  {
   "cell_type": "markdown",
   "id": "478cdee7",
   "metadata": {
    "ExecuteTime": {
     "end_time": "2024-03-03T12:58:30.187702Z",
     "start_time": "2024-03-03T12:58:30.180376Z"
    }
   },
   "source": [
    "Modify the following Python code snippet to print \"Good\" and \"Morning\" on separate lines. Make sure not to add another print function. Expected output:\n"
   ]
  },
  {
   "cell_type": "markdown",
   "id": "79cd0a48",
   "metadata": {},
   "source": [
    "Good"
   ]
  },
  {
   "cell_type": "markdown",
   "id": "53dd5d9a",
   "metadata": {},
   "source": [
    "Morning"
   ]
  },
  {
   "cell_type": "code",
   "execution_count": 28,
   "id": "a9767862",
   "metadata": {},
   "outputs": [
    {
     "name": "stdout",
     "output_type": "stream",
     "text": [
      "Good\n",
      "Morning\n"
     ]
    }
   ],
   "source": [
    "print(\"Good\",\"Morning\", sep=\"\\n\")"
   ]
  },
  {
   "cell_type": "code",
   "execution_count": 29,
   "id": "edd68d7d",
   "metadata": {},
   "outputs": [
    {
     "name": "stdout",
     "output_type": "stream",
     "text": [
      "Good\n",
      "Morning\n"
     ]
    }
   ],
   "source": [
    "print(\"Good\",\"Morning\",sep=\"\\n\",end=\"\\n\")"
   ]
  },
  {
   "cell_type": "markdown",
   "id": "f3e0646e",
   "metadata": {},
   "source": [
    "Prompt the user to enter their name and greet them with \"Hello, [name]! How are you today?\""
   ]
  },
  {
   "cell_type": "code",
   "execution_count": 35,
   "id": "8547b48d",
   "metadata": {},
   "outputs": [
    {
     "name": "stdout",
     "output_type": "stream",
     "text": [
      "Hello, ahmad ! How are you today?\n"
     ]
    }
   ],
   "source": [
    "name = input(\"Enter your name\")\n",
    "print(\"Hello,\", name, \"! How are you today?\")"
   ]
  },
  {
   "cell_type": "markdown",
   "id": "b3538042",
   "metadata": {},
   "source": [
    "Ask the user to input their birth year and calculate their current age. Then, print a message stating their age."
   ]
  },
  {
   "cell_type": "code",
   "execution_count": 39,
   "id": "af0f0de2",
   "metadata": {},
   "outputs": [
    {
     "name": "stdout",
     "output_type": "stream",
     "text": [
      "You are 48 years old.\n"
     ]
    }
   ],
   "source": [
    "year_of_b = input(\"Write your year of birth\")\n",
    "age = 2024 - int(year_of_b)\n",
    "print(\"You are\", age, \"years old.\")"
   ]
  },
  {
   "cell_type": "markdown",
   "id": "08ef8d0c",
   "metadata": {},
   "source": [
    "Request the user to input two numbers, add them together, and display the result."
   ]
  },
  {
   "cell_type": "markdown",
   "id": "07a70319",
   "metadata": {
    "ExecuteTime": {
     "end_time": "2024-03-03T13:12:43.671197Z",
     "start_time": "2024-03-03T13:12:43.664371Z"
    }
   },
   "source": [
    "Ask the user to input their favorite color and print a message including their input."
   ]
  },
  {
   "cell_type": "markdown",
   "id": "ef0b0b5b",
   "metadata": {},
   "source": [
    "Prompt the user to input their age in months and convert it to years. Then, display the result."
   ]
  },
  {
   "cell_type": "code",
   "execution_count": null,
   "id": "651f2ace",
   "metadata": {},
   "outputs": [],
   "source": []
  }
 ],
 "metadata": {
  "hide_input": false,
  "kernelspec": {
   "display_name": "Python 3 (ipykernel)",
   "language": "python",
   "name": "python3"
  },
  "language_info": {
   "codemirror_mode": {
    "name": "ipython",
    "version": 3
   },
   "file_extension": ".py",
   "mimetype": "text/x-python",
   "name": "python",
   "nbconvert_exporter": "python",
   "pygments_lexer": "ipython3",
   "version": "3.11.1"
  },
  "nbTranslate": {
   "displayLangs": [
    "*"
   ],
   "hotkey": "alt-t",
   "langInMainMenu": true,
   "sourceLang": "en",
   "targetLang": "fr",
   "useGoogleTranslate": true
  },
  "toc": {
   "base_numbering": 1,
   "nav_menu": {},
   "number_sections": true,
   "sideBar": true,
   "skip_h1_title": false,
   "title_cell": "Table of Contents",
   "title_sidebar": "Contents",
   "toc_cell": false,
   "toc_position": {},
   "toc_section_display": true,
   "toc_window_display": false
  },
  "varInspector": {
   "cols": {
    "lenName": 16,
    "lenType": 16,
    "lenVar": 40
   },
   "kernels_config": {
    "python": {
     "delete_cmd_postfix": "",
     "delete_cmd_prefix": "del ",
     "library": "var_list.py",
     "varRefreshCmd": "print(var_dic_list())"
    },
    "r": {
     "delete_cmd_postfix": ") ",
     "delete_cmd_prefix": "rm(",
     "library": "var_list.r",
     "varRefreshCmd": "cat(var_dic_list()) "
    }
   },
   "types_to_exclude": [
    "module",
    "function",
    "builtin_function_or_method",
    "instance",
    "_Feature"
   ],
   "window_display": false
  }
 },
 "nbformat": 4,
 "nbformat_minor": 5
}
