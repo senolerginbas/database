{
 "cells": [
  {
   "cell_type": "code",
   "execution_count": 1,
   "metadata": {},
   "outputs": [
    {
     "name": "stdout",
     "output_type": "stream",
     "text": [
      "eight is bigger than four\n"
     ]
    }
   ],
   "source": [
    "if 8 > 4:\n",
    "    print(\"eight is bigger than four\")\n",
    "else:\n",
    "    print(8 + 4)"
   ]
  },
  {
   "cell_type": "code",
   "execution_count": 1,
   "metadata": {},
   "outputs": [
    {
     "name": "stdout",
     "output_type": "stream",
     "text": [
      "True\n"
     ]
    }
   ],
   "source": [
    "if True:\n",
    "    print(\"True\")\n",
    "else:\n",
    "    print(\"Merhaba\")"
   ]
  },
  {
   "cell_type": "markdown",
   "metadata": {},
   "source": [
    "#### if, elif, else"
   ]
  },
  {
   "cell_type": "markdown",
   "metadata": {},
   "source": [
    "if want to check multiple conditions"
   ]
  },
  {
   "cell_type": "markdown",
   "metadata": {},
   "source": [
    "* if condition:\n",
    "  - execute\n",
    "* elif condition2:\n",
    "  - execute\n",
    "* elif condition3:\n",
    "  - execute\n",
    "* else:\n",
    "  - execute"
   ]
  },
  {
   "cell_type": "code",
   "execution_count": 2,
   "metadata": {},
   "outputs": [
    {
     "name": "stdout",
     "output_type": "stream",
     "text": [
      "x is bigger than 6\n"
     ]
    }
   ],
   "source": [
    "x = 8\n",
    "if x < 8:\n",
    "    print(\"The if condition is met.\")\n",
    "elif x == 9:\n",
    "    print(\"x is equal to 9\")\n",
    "elif x > 6:\n",
    "    print(\"x is bigger than 6\")\n",
    "else:\n",
    "    print(\"None of the conditions are met.\")"
   ]
  },
  {
   "cell_type": "code",
   "execution_count": 5,
   "metadata": {},
   "outputs": [
    {
     "name": "stdout",
     "output_type": "stream",
     "text": [
      "x is bigger than 6\n",
      "This code will run, in any scenario.\n"
     ]
    }
   ],
   "source": [
    "x = 8\n",
    "if x < 8:\n",
    "    print(\"The if condition is met.\")\n",
    "elif x == 9:\n",
    "    print(\"x is equal to 9\")\n",
    "elif x > 6:\n",
    "    print(\"x is bigger than 6\")\n",
    "else:\n",
    "    print(\"None of the conditions are met.\")\n",
    "    \n",
    "print(\"This code will run, in any scenario.\")"
   ]
  },
  {
   "cell_type": "code",
   "execution_count": 3,
   "metadata": {},
   "outputs": [
    {
     "name": "stdout",
     "output_type": "stream",
     "text": [
      "The if condition is met.\n"
     ]
    }
   ],
   "source": [
    "x = 8\n",
    "if x < 9:\n",
    "    print(\"The if condition is met.\")\n",
    "elif x == 9:\n",
    "    print(\"x is equal to 9\")\n",
    "elif x > 6:\n",
    "    print(\"x is bigger than 6\")\n",
    "else:\n",
    "    print(\"None of the conditions are met.\")"
   ]
  },
  {
   "cell_type": "code",
   "execution_count": 6,
   "metadata": {},
   "outputs": [
    {
     "name": "stdout",
     "output_type": "stream",
     "text": [
      "The if condition is met.\n",
      "This code will run, in any scenario.\n"
     ]
    }
   ],
   "source": [
    "x = 8\n",
    "if x < 9:\n",
    "    print(\"The if condition is met.\")\n",
    "elif x == 9:\n",
    "    print(\"x is equal to 9\")\n",
    "elif x > 6:\n",
    "    print(\"x is bigger than 6\")\n",
    "else:\n",
    "    print(\"None of the conditions are met.\")\n",
    "\n",
    "print(\"This code will run, in any scenario.\")"
   ]
  },
  {
   "cell_type": "code",
   "execution_count": 4,
   "metadata": {},
   "outputs": [
    {
     "name": "stdout",
     "output_type": "stream",
     "text": [
      "None of the conditions are met.\n"
     ]
    }
   ],
   "source": [
    "x = 8\n",
    "if x < 3:\n",
    "    print(\"The if condition is met.\")\n",
    "elif x == 9:\n",
    "    print(\"x is equal to 9\")\n",
    "elif x > 11:\n",
    "    print(\"x is bigger than 6\")\n",
    "else:\n",
    "    print(\"None of the conditions are met.\")"
   ]
  },
  {
   "cell_type": "code",
   "execution_count": 7,
   "metadata": {},
   "outputs": [
    {
     "name": "stdout",
     "output_type": "stream",
     "text": [
      "None of the conditions are met.\n",
      "This code will run, in any scenario.\n"
     ]
    }
   ],
   "source": [
    "x = 8\n",
    "if x < 3:\n",
    "    print(\"The if condition is met.\")\n",
    "elif x == 9:\n",
    "    print(\"x is equal to 9\")\n",
    "elif x > 11:\n",
    "    print(\"x is bigger than 6\")\n",
    "else:\n",
    "    print(\"None of the conditions are met.\")\n",
    "\n",
    "print(\"This code will run, in any scenario.\")"
   ]
  },
  {
   "cell_type": "code",
   "execution_count": 8,
   "metadata": {},
   "outputs": [
    {
     "name": "stdout",
     "output_type": "stream",
     "text": [
      "32\n"
     ]
    }
   ],
   "source": [
    "x = 7\n",
    "if x < 8:\n",
    "    print(8 * 4)\n",
    "elif x == 9:\n",
    "    print(\"this will not run\")\n",
    "elif x > 90:\n",
    "    print(\"True\")\n",
    "else:\n",
    "    print(\"Hello world\")"
   ]
  },
  {
   "cell_type": "code",
   "execution_count": 9,
   "metadata": {},
   "outputs": [],
   "source": [
    "x = 7\n",
    "if x < 8:\n",
    "    8 * 4\n",
    "elif x == 9:\n",
    "    print(\"this will not run\")\n",
    "elif x > 90:\n",
    "    print(\"True\")\n",
    "else:\n",
    "    print(\"Hello world\")"
   ]
  },
  {
   "cell_type": "code",
   "execution_count": 10,
   "metadata": {},
   "outputs": [
    {
     "name": "stdout",
     "output_type": "stream",
     "text": [
      "32\n"
     ]
    },
    {
     "data": {
      "text/plain": [
       "12"
      ]
     },
     "execution_count": 10,
     "metadata": {},
     "output_type": "execute_result"
    }
   ],
   "source": [
    "x = 7\n",
    "if x < 8:\n",
    "    print(8 * 4)\n",
    "elif x == 9:\n",
    "    print(\"this will not run\")\n",
    "elif x > 90:\n",
    "    print(\"True\")\n",
    "else:\n",
    "    print(\"Hello world\")\n",
    "\n",
    "3 * 4"
   ]
  },
  {
   "cell_type": "code",
   "execution_count": 15,
   "metadata": {},
   "outputs": [
    {
     "data": {
      "text/plain": [
       "12"
      ]
     },
     "execution_count": 15,
     "metadata": {},
     "output_type": "execute_result"
    }
   ],
   "source": [
    "x = 7\n",
    "if x == 8:\n",
    "    print(8 * 4)\n",
    "elif x == 9:\n",
    "    print(\"this will not run\")\n",
    "elif x > 90:\n",
    "    print(\"True\")\n",
    "else:\n",
    "    3 * 6\n",
    "3 * 4"
   ]
  },
  {
   "cell_type": "code",
   "execution_count": 16,
   "metadata": {},
   "outputs": [
    {
     "data": {
      "text/plain": [
       "12"
      ]
     },
     "execution_count": 16,
     "metadata": {},
     "output_type": "execute_result"
    }
   ],
   "source": [
    "x = 7\n",
    "if x == 8:\n",
    "    print(8 * 4)\n",
    "elif x == 9:\n",
    "    print(\"this will not run\")\n",
    "elif x > 90:\n",
    "    print(\"True\")\n",
    "else:\n",
    "    3 * 6"
   ]
  },
  {
   "cell_type": "code",
   "execution_count": 18,
   "metadata": {},
   "outputs": [
    {
     "name": "stdout",
     "output_type": "stream",
     "text": [
      "32\n",
      "True\n"
     ]
    }
   ],
   "source": [
    "x = 8\n",
    "if x == 8:\n",
    "    print(8 * 4)\n",
    "elif x == 9:\n",
    "    print(\"this will not run\")\n",
    "if x > 4:\n",
    "    print(\"True\")\n",
    "else:\n",
    "    3 * 6"
   ]
  },
  {
   "cell_type": "code",
   "execution_count": 19,
   "metadata": {},
   "outputs": [
    {
     "name": "stdout",
     "output_type": "stream",
     "text": [
      "32\n"
     ]
    }
   ],
   "source": [
    "x = 8\n",
    "if x == 8:\n",
    "    print(8 * 4)\n",
    "elif x == 9:\n",
    "    print(\"this will not run\")\n",
    "if x > 9:\n",
    "    print(\"True\")\n",
    "else:\n",
    "    3 * 6"
   ]
  },
  {
   "cell_type": "code",
   "execution_count": 20,
   "metadata": {},
   "outputs": [
    {
     "name": "stdout",
     "output_type": "stream",
     "text": [
      "32\n",
      "18\n"
     ]
    }
   ],
   "source": [
    "x = 8\n",
    "if x == 8:\n",
    "    print(8 * 4)\n",
    "elif x == 9:\n",
    "    print(\"this will not run\")\n",
    "if x > 9:\n",
    "    print(\"True\")\n",
    "else:\n",
    "    print(3 * 6)"
   ]
  },
  {
   "cell_type": "code",
   "execution_count": 21,
   "metadata": {},
   "outputs": [
    {
     "name": "stdout",
     "output_type": "stream",
     "text": [
      "Hello world\n"
     ]
    }
   ],
   "source": [
    "if 8 > 5:\n",
    "    print(\"Hello world\")\n",
    "elif 9 < 5:\n",
    "    print(\"Hiii All\")\n",
    "elif True:\n",
    "    print(\"True\")"
   ]
  },
  {
   "cell_type": "code",
   "execution_count": 23,
   "metadata": {},
   "outputs": [],
   "source": [
    "if 8 < 5:\n",
    "    print(\"Hello world\")\n",
    "elif 9 < 5:\n",
    "    print(\"Hiii All\")\n",
    "elif False:\n",
    "    print(\"True\")"
   ]
  },
  {
   "cell_type": "code",
   "execution_count": 24,
   "metadata": {},
   "outputs": [
    {
     "name": "stdout",
     "output_type": "stream",
     "text": [
      "Hiii\n"
     ]
    }
   ],
   "source": [
    "if 8 < 5:\n",
    "    print(\"Hello world\")\n",
    "elif 9 < 5:\n",
    "    print(\"Hiii All\")\n",
    "elif False:\n",
    "    print(\"True\")\n",
    "if 8 == 9:\n",
    "    print(8 ** 2)\n",
    "else:\n",
    "    print(\"Hiii\")"
   ]
  },
  {
   "cell_type": "code",
   "execution_count": 26,
   "metadata": {},
   "outputs": [
    {
     "name": "stdout",
     "output_type": "stream",
     "text": [
      "49\n",
      "Hiii\n"
     ]
    }
   ],
   "source": [
    "if 8 < 5:\n",
    "    print(\"Hello world\")\n",
    "elif 9 < 5:\n",
    "    print(\"Hiii All\")\n",
    "elif False:\n",
    "    print(\"True\")\n",
    "else:\n",
    "    print(7 ** 2)\n",
    "if 8 == 9:\n",
    "    print(8 ** 2)\n",
    "else:\n",
    "    print(\"Hiii\")"
   ]
  },
  {
   "cell_type": "code",
   "execution_count": 27,
   "metadata": {},
   "outputs": [
    {
     "name": "stdout",
     "output_type": "stream",
     "text": [
      "64\n"
     ]
    }
   ],
   "source": [
    "x = 4\n",
    "if x < 2:\n",
    "    print(\"if\")\n",
    "elif x > 5:\n",
    "    print(\"elif\")\n",
    "else:\n",
    "    print(4 ** 3)"
   ]
  },
  {
   "cell_type": "code",
   "execution_count": 28,
   "metadata": {},
   "outputs": [
    {
     "name": "stdout",
     "output_type": "stream",
     "text": [
      "elif\n",
      "25\n",
      "12\n",
      "Selma\n"
     ]
    }
   ],
   "source": [
    "x = 4\n",
    "if x < 2:\n",
    "    print(\"if\")\n",
    "elif x > 3:\n",
    "    print(\"elif\")\n",
    "    print(5 ** 2)\n",
    "    print(6 + 6)\n",
    "    name = \"Selma\"\n",
    "    print(name)"
   ]
  },
  {
   "cell_type": "code",
   "execution_count": 29,
   "metadata": {},
   "outputs": [
    {
     "name": "stdout",
     "output_type": "stream",
     "text": [
      "elif\n",
      "Selma\n"
     ]
    }
   ],
   "source": [
    "x = 4\n",
    "if x < 2:\n",
    "    print(\"if\")\n",
    "elif x > 3:\n",
    "    print(\"elif\")\n",
    "    5 ** 2\n",
    "    6 + 6\n",
    "    name = \"Selma\"\n",
    "    print(name)"
   ]
  },
  {
   "cell_type": "markdown",
   "metadata": {},
   "source": [
    "ask the user for their age as an input, if they are younger than 18, call them a teenager, if they are between 18 and 40, call them adults. if they are between 40 and 55 call them experienced, if they are older than 55; then tell them to enjoy their retirement."
   ]
  },
  {
   "cell_type": "code",
   "execution_count": 30,
   "metadata": {},
   "outputs": [
    {
     "name": "stdout",
     "output_type": "stream",
     "text": [
      "You are an adult.\n"
     ]
    }
   ],
   "source": [
    "age = input(\"Hi, Welcome to our age categorization program.\\n How old are you\")\n",
    "age = int(age)\n",
    "if age < 18:\n",
    "    print(\"You are a teenager.\")\n",
    "elif 18 <= age <=40:\n",
    "    print(\"You are an adult.\")\n",
    "elif 40 < age <= 55:\n",
    "    print(\"You are an experienced person.\")\n",
    "elif 55 < age:\n",
    "    print(\"Enjoy the retirement\")"
   ]
  },
  {
   "cell_type": "code",
   "execution_count": 46,
   "metadata": {},
   "outputs": [
    {
     "name": "stdout",
     "output_type": "stream",
     "text": [
      "Please give the age as numericals\n"
     ]
    }
   ],
   "source": [
    "age = input(\"Hi, Welcome to our age categorization program.\\n How old are you\")\n",
    "if age.isnumeric():\n",
    "    age = int(age)\n",
    "    if age < 18:\n",
    "        print(\"You are a teenager.\")\n",
    "    elif 18 <= age <=40:\n",
    "        print(\"You are an adult.\")\n",
    "    elif 40 < age <= 55:\n",
    "        print(\"You are an experienced person.\")\n",
    "    elif 55 < age:\n",
    "        print(\"Enjoy the retirement\")\n",
    "else:\n",
    "    print(\"Please give the age as numericals\")"
   ]
  },
  {
   "cell_type": "code",
   "execution_count": 51,
   "metadata": {},
   "outputs": [
    {
     "name": "stdout",
     "output_type": "stream",
     "text": [
      "Please give the age as numericals\n"
     ]
    }
   ],
   "source": [
    "age = input(\"Hi, Welcome to our age categorization program.\\n How old are you\")\n",
    "if age.isnumeric():\n",
    "    age = int(age)\n",
    "    if age < 0:\n",
    "        print(\"Age cannot be a negative number\")\n",
    "    elif age > 100:\n",
    "        print(\"Please stay in the range (0,100).\")\n",
    "    else:\n",
    "        if age < 18:\n",
    "            print(\"You are a teenager.\")\n",
    "        elif 18 <= age <=40:\n",
    "            print(\"You are an adult.\")\n",
    "        elif 40 < age <= 55:\n",
    "            print(\"You are an experienced person.\")\n",
    "        elif 55 < age:\n",
    "            print(\"Enjoy the retirement\")\n",
    "else:\n",
    "    print(\"Please give the age as numericals\")"
   ]
  },
  {
   "cell_type": "code",
   "execution_count": null,
   "metadata": {},
   "outputs": [],
   "source": []
  },
  {
   "cell_type": "code",
   "execution_count": 53,
   "metadata": {},
   "outputs": [
    {
     "name": "stdout",
     "output_type": "stream",
     "text": [
      "The provided number is between 10 and 35\n"
     ]
    }
   ],
   "source": [
    "x = int(input(\"Please provide a number between 0 and 50: \"))\n",
    "\n",
    "if x < 10:\n",
    "    print(\"The provided number is smaller than 10\")\n",
    "elif x < 35:\n",
    "    print(\"The provided number is between 10 and 35\")\n",
    "elif x <= 50:\n",
    "    print(\"The provided number is between 35 and 50\")\n",
    "else:\n",
    "    print(\"The provided number exceeds the range.\")"
   ]
  },
  {
   "cell_type": "markdown",
   "metadata": {},
   "source": [
    "write a program using the following details:\n",
    "1. print a message saying: Welcome to kahoot result categorization program\n",
    "2. take input from the user as: how many correct questions you got from last kahoot out of 15?\n",
    "3. if the number is < 5; print that's very low, please practice before coming to class.\n",
    "4. if between 5 and 10;print you have got a good result, but it can get better.\n",
    "5. if between 10 and 15; print great, keep up the good work."
   ]
  },
  {
   "cell_type": "code",
   "execution_count": 56,
   "metadata": {},
   "outputs": [
    {
     "name": "stdout",
     "output_type": "stream",
     "text": [
      "Welcome To Kahoot Result Categorization Program\n",
      "great, keep up the good work.\n"
     ]
    }
   ],
   "source": [
    "print(\"    WELCOME TO kahoot result categorization ProGraM\"      .strip().title())\n",
    "answer = input(\"Please write the number of correct answers you got in the last Kahoot\")\n",
    "answer = int(answer)\n",
    "if answer <= 5:\n",
    "    print(\"that's very low, please practice before coming to class.\")\n",
    "elif answer <= 10:\n",
    "    print(\"you have got a good result, but it can get better.\")\n",
    "elif 10 < answer <= 15:\n",
    "    print(\"great, keep up the good work.\")"
   ]
  }
 ],
 "metadata": {
  "hide_input": false,
  "kernelspec": {
   "display_name": "Python 3 (ipykernel)",
   "language": "python",
   "name": "python3"
  },
  "language_info": {
   "codemirror_mode": {
    "name": "ipython",
    "version": 3
   },
   "file_extension": ".py",
   "mimetype": "text/x-python",
   "name": "python",
   "nbconvert_exporter": "python",
   "pygments_lexer": "ipython3",
   "version": "3.11.1"
  },
  "nbTranslate": {
   "displayLangs": [
    "*"
   ],
   "hotkey": "alt-t",
   "langInMainMenu": true,
   "sourceLang": "en",
   "targetLang": "fr",
   "useGoogleTranslate": true
  },
  "toc": {
   "base_numbering": 1,
   "nav_menu": {},
   "number_sections": true,
   "sideBar": true,
   "skip_h1_title": false,
   "title_cell": "Table of Contents",
   "title_sidebar": "Contents",
   "toc_cell": false,
   "toc_position": {},
   "toc_section_display": true,
   "toc_window_display": false
  },
  "varInspector": {
   "cols": {
    "lenName": 16,
    "lenType": 16,
    "lenVar": 40
   },
   "kernels_config": {
    "python": {
     "delete_cmd_postfix": "",
     "delete_cmd_prefix": "del ",
     "library": "var_list.py",
     "varRefreshCmd": "print(var_dic_list())"
    },
    "r": {
     "delete_cmd_postfix": ") ",
     "delete_cmd_prefix": "rm(",
     "library": "var_list.r",
     "varRefreshCmd": "cat(var_dic_list()) "
    }
   },
   "types_to_exclude": [
    "module",
    "function",
    "builtin_function_or_method",
    "instance",
    "_Feature"
   ],
   "window_display": false
  }
 },
 "nbformat": 4,
 "nbformat_minor": 2
}
